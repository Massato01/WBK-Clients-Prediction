{
 "cells": [
  {
   "cell_type": "markdown",
   "metadata": {},
   "source": [
    "# ***WBK clients Exploratory Data Analisys***"
   ]
  },
  {
   "cell_type": "code",
   "execution_count": 1,
   "metadata": {},
   "outputs": [],
   "source": [
    "# imports\n",
    "import pandas            as pd\n",
    "import numpy             as np\n",
    "import statistics        as sts\n",
    "import matplotlib.pyplot as plt\n",
    "import seaborn           as sns\n",
    "import plotly.express    as px\n",
    "import plotly.graph_objs as go"
   ]
  },
  {
   "cell_type": "markdown",
   "metadata": {},
   "source": [
    "## **Data Treatment**"
   ]
  },
  {
   "cell_type": "code",
   "execution_count": 2,
   "metadata": {},
   "outputs": [
    {
     "data": {
      "text/plain": [
       "(250, 22)"
      ]
     },
     "execution_count": 2,
     "metadata": {},
     "output_type": "execute_result"
    }
   ],
   "source": [
    "df = pd.read_csv('./WBKClientsRaw.csv')\n",
    "df.shape"
   ]
  },
  {
   "cell_type": "code",
   "execution_count": 3,
   "metadata": {},
   "outputs": [
    {
     "data": {
      "text/html": [
       "<div>\n",
       "<style scoped>\n",
       "    .dataframe tbody tr th:only-of-type {\n",
       "        vertical-align: middle;\n",
       "    }\n",
       "\n",
       "    .dataframe tbody tr th {\n",
       "        vertical-align: top;\n",
       "    }\n",
       "\n",
       "    .dataframe thead th {\n",
       "        text-align: right;\n",
       "    }\n",
       "</style>\n",
       "<table border=\"1\" class=\"dataframe\">\n",
       "  <thead>\n",
       "    <tr style=\"text-align: right;\">\n",
       "      <th></th>\n",
       "      <th>Cliente</th>\n",
       "      <th>Estado</th>\n",
       "      <th>Sexo</th>\n",
       "      <th>Duracao</th>\n",
       "      <th>HistoricoCredito</th>\n",
       "      <th>Proposito</th>\n",
       "      <th>Valor</th>\n",
       "      <th>Investimento</th>\n",
       "      <th>Emprego</th>\n",
       "      <th>TempoParcelamento</th>\n",
       "      <th>...</th>\n",
       "      <th>ResidenciaDesde</th>\n",
       "      <th>Idade</th>\n",
       "      <th>OutrosFinanciamentos</th>\n",
       "      <th>Habitacao</th>\n",
       "      <th>EmprestimoExistente</th>\n",
       "      <th>Profissao</th>\n",
       "      <th>Dependentes</th>\n",
       "      <th>SocioEmpresa</th>\n",
       "      <th>Estrangeiro</th>\n",
       "      <th>Status</th>\n",
       "    </tr>\n",
       "  </thead>\n",
       "  <tbody>\n",
       "    <tr>\n",
       "      <th>0</th>\n",
       "      <td>Adelina Buenaventura</td>\n",
       "      <td>RJ</td>\n",
       "      <td>M</td>\n",
       "      <td>2</td>\n",
       "      <td>Adelina Buenaventura</td>\n",
       "      <td>2</td>\n",
       "      <td>1</td>\n",
       "      <td>5951</td>\n",
       "      <td>2</td>\n",
       "      <td>3.0</td>\n",
       "      <td>...</td>\n",
       "      <td>3</td>\n",
       "      <td>2.0</td>\n",
       "      <td>22</td>\n",
       "      <td>3</td>\n",
       "      <td>1.0</td>\n",
       "      <td>1</td>\n",
       "      <td>4</td>\n",
       "      <td>1</td>\n",
       "      <td>0</td>\n",
       "      <td>0</td>\n",
       "    </tr>\n",
       "    <tr>\n",
       "      <th>1</th>\n",
       "      <td>Adelino Gago</td>\n",
       "      <td>RJ</td>\n",
       "      <td>M</td>\n",
       "      <td>3</td>\n",
       "      <td>Adelino Gago</td>\n",
       "      <td>1</td>\n",
       "      <td>2</td>\n",
       "      <td>2096</td>\n",
       "      <td>2</td>\n",
       "      <td>4.0</td>\n",
       "      <td>...</td>\n",
       "      <td>3</td>\n",
       "      <td>3.0</td>\n",
       "      <td>49</td>\n",
       "      <td>3</td>\n",
       "      <td>1.0</td>\n",
       "      <td>1</td>\n",
       "      <td>3</td>\n",
       "      <td>2</td>\n",
       "      <td>0</td>\n",
       "      <td>0</td>\n",
       "    </tr>\n",
       "    <tr>\n",
       "      <th>2</th>\n",
       "      <td>Adélio Lisboa</td>\n",
       "      <td>SE</td>\n",
       "      <td>M</td>\n",
       "      <td>4</td>\n",
       "      <td>Adélio Lisboa</td>\n",
       "      <td>2</td>\n",
       "      <td>3</td>\n",
       "      <td>7882</td>\n",
       "      <td>2</td>\n",
       "      <td>4.0</td>\n",
       "      <td>...</td>\n",
       "      <td>4</td>\n",
       "      <td>4.0</td>\n",
       "      <td>45</td>\n",
       "      <td>3</td>\n",
       "      <td>2.0</td>\n",
       "      <td>1</td>\n",
       "      <td>4</td>\n",
       "      <td>2</td>\n",
       "      <td>0</td>\n",
       "      <td>0</td>\n",
       "    </tr>\n",
       "    <tr>\n",
       "      <th>3</th>\n",
       "      <td>Adérito Bahía</td>\n",
       "      <td>MA</td>\n",
       "      <td>M</td>\n",
       "      <td>5</td>\n",
       "      <td>Adérito Bahía</td>\n",
       "      <td>3</td>\n",
       "      <td>4</td>\n",
       "      <td>4870</td>\n",
       "      <td>2</td>\n",
       "      <td>3.0</td>\n",
       "      <td>...</td>\n",
       "      <td>3</td>\n",
       "      <td>4.0</td>\n",
       "      <td>53</td>\n",
       "      <td>3</td>\n",
       "      <td>2.0</td>\n",
       "      <td>2</td>\n",
       "      <td>4</td>\n",
       "      <td>2</td>\n",
       "      <td>0</td>\n",
       "      <td>0</td>\n",
       "    </tr>\n",
       "    <tr>\n",
       "      <th>4</th>\n",
       "      <td>Adolfo Patrício</td>\n",
       "      <td>PE</td>\n",
       "      <td>M</td>\n",
       "      <td>6</td>\n",
       "      <td>Adolfo Patrício</td>\n",
       "      <td>2</td>\n",
       "      <td>2</td>\n",
       "      <td>9055</td>\n",
       "      <td>1</td>\n",
       "      <td>3.0</td>\n",
       "      <td>...</td>\n",
       "      <td>3</td>\n",
       "      <td>4.0</td>\n",
       "      <td>35</td>\n",
       "      <td>3</td>\n",
       "      <td>2.0</td>\n",
       "      <td>1</td>\n",
       "      <td>3</td>\n",
       "      <td>2</td>\n",
       "      <td>1</td>\n",
       "      <td>0</td>\n",
       "    </tr>\n",
       "  </tbody>\n",
       "</table>\n",
       "<p>5 rows × 22 columns</p>\n",
       "</div>"
      ],
      "text/plain": [
       "                Cliente Estado Sexo  Duracao      HistoricoCredito  Proposito  \\\n",
       "0  Adelina Buenaventura     RJ    M        2  Adelina Buenaventura          2   \n",
       "1          Adelino Gago     RJ    M        3          Adelino Gago          1   \n",
       "2         Adélio Lisboa     SE    M        4         Adélio Lisboa          2   \n",
       "3         Adérito Bahía     MA    M        5         Adérito Bahía          3   \n",
       "4       Adolfo Patrício     PE    M        6       Adolfo Patrício          2   \n",
       "\n",
       "   Valor  Investimento  Emprego  TempoParcelamento  ...  ResidenciaDesde  \\\n",
       "0      1          5951        2                3.0  ...                3   \n",
       "1      2          2096        2                4.0  ...                3   \n",
       "2      3          7882        2                4.0  ...                4   \n",
       "3      4          4870        2                3.0  ...                3   \n",
       "4      2          9055        1                3.0  ...                3   \n",
       "\n",
       "   Idade  OutrosFinanciamentos  Habitacao  EmprestimoExistente  Profissao  \\\n",
       "0    2.0                    22          3                  1.0          1   \n",
       "1    3.0                    49          3                  1.0          1   \n",
       "2    4.0                    45          3                  2.0          1   \n",
       "3    4.0                    53          3                  2.0          2   \n",
       "4    4.0                    35          3                  2.0          1   \n",
       "\n",
       "   Dependentes  SocioEmpresa  Estrangeiro  Status  \n",
       "0            4             1            0       0  \n",
       "1            3             2            0       0  \n",
       "2            4             2            0       0  \n",
       "3            4             2            0       0  \n",
       "4            3             2            1       0  \n",
       "\n",
       "[5 rows x 22 columns]"
      ]
     },
     "execution_count": 3,
     "metadata": {},
     "output_type": "execute_result"
    }
   ],
   "source": [
    "df.head()"
   ]
  },
  {
   "cell_type": "markdown",
   "metadata": {},
   "source": [
    "### **Treating NaN values**"
   ]
  },
  {
   "cell_type": "code",
   "execution_count": 4,
   "metadata": {},
   "outputs": [
    {
     "data": {
      "text/plain": [
       "Cliente                 False\n",
       "Estado                  False\n",
       "Sexo                    False\n",
       "Duracao                 False\n",
       "HistoricoCredito        False\n",
       "Proposito               False\n",
       "Valor                   False\n",
       "Investimento            False\n",
       "Emprego                 False\n",
       "TempoParcelamento        True\n",
       "EstadoCivil             False\n",
       "Fiador                  False\n",
       "ResidenciaDesde         False\n",
       "Idade                    True\n",
       "OutrosFinanciamentos    False\n",
       "Habitacao               False\n",
       "EmprestimoExistente      True\n",
       "Profissao               False\n",
       "Dependentes             False\n",
       "SocioEmpresa            False\n",
       "Estrangeiro             False\n",
       "Status                  False\n",
       "dtype: bool"
      ]
     },
     "execution_count": 4,
     "metadata": {},
     "output_type": "execute_result"
    }
   ],
   "source": [
    "df.isna().any()\n",
    "\n",
    "# InstallmentTime, Age, ExistingLoan"
   ]
  },
  {
   "cell_type": "markdown",
   "metadata": {},
   "source": [
    "### Getting the median of the columns with NaN values"
   ]
  },
  {
   "cell_type": "code",
   "execution_count": 5,
   "metadata": {},
   "outputs": [
    {
     "name": "stdout",
     "output_type": "stream",
     "text": [
      "installmenttime_median = 3.0\n",
      "age_median = 2.0\n",
      "existingloan_median = 1.0\n"
     ]
    }
   ],
   "source": [
    "installmenttime_get_median = df['TempoParcelamento']\n",
    "installmenttime_median = sts.median(installmenttime_get_median)\n",
    "\n",
    "age_get_median = df['Idade']\n",
    "age_median = sts.median(age_get_median)\n",
    "\n",
    "existingloan_get_median = df['EmprestimoExistente']\n",
    "existingloan_median = sts.median(existingloan_get_median)\n",
    "\n",
    "print(f'{installmenttime_median = }')\n",
    "print(f'{age_median = }')\n",
    "print(f'{existingloan_median = }')"
   ]
  },
  {
   "cell_type": "markdown",
   "metadata": {},
   "source": [
    "### Replacing all the NaN with the median of it's column"
   ]
  },
  {
   "cell_type": "code",
   "execution_count": 6,
   "metadata": {},
   "outputs": [],
   "source": [
    "df['TempoParcelamento'].fillna(installmenttime_median, inplace = True)\n",
    "df['Idade'].fillna(age_median, inplace = True)\n",
    "df['EmprestimoExistente'].fillna(existingloan_median, inplace = True)"
   ]
  },
  {
   "cell_type": "code",
   "execution_count": 7,
   "metadata": {},
   "outputs": [
    {
     "data": {
      "text/plain": [
       "False"
      ]
     },
     "execution_count": 7,
     "metadata": {},
     "output_type": "execute_result"
    }
   ],
   "source": [
    "# ALL NAN VALUES TREATED\n",
    "df.isna().any().any()"
   ]
  },
  {
   "cell_type": "markdown",
   "metadata": {},
   "source": [
    "### **UPDATING THE CSV FILE**"
   ]
  },
  {
   "cell_type": "code",
   "execution_count": 8,
   "metadata": {},
   "outputs": [],
   "source": [
    "# df.to_csv('..\\\\scripts\\\\WBKClientsTreated.csv', index = False)"
   ]
  },
  {
   "cell_type": "markdown",
   "metadata": {},
   "source": [
    "### Visualizing unique values of each column"
   ]
  },
  {
   "cell_type": "code",
   "execution_count": 9,
   "metadata": {},
   "outputs": [
    {
     "name": "stdout",
     "output_type": "stream",
     "text": [
      "Cliente\n",
      "UNIQUES: ['Adelina Buenaventura' 'Adelino Gago' 'Adolfo Patrício'\n",
      " 'Adriana Guedelha' 'Adélio Lisboa' 'Adérito Bahía' 'Aida Dorneles'\n",
      " 'Alarico Quinterno' 'Alberto Cezimbra' 'Alberto Monsanto' 'Albino Canela'\n",
      " 'Alceste Varanda' 'Alcides Carvalhais' 'Aldo Martins' 'Alexandra Tabares'\n",
      " 'Alfredo Cotrim' 'Almeno Figueira' 'Alvito Peralta' 'Amadeu Martinho'\n",
      " 'Amélia Estévez' 'Ana Homem' 'Ana Peseiro' 'Anacleto Garrau'\n",
      " 'Anacleto Guterres' 'Andreia Carvalhal' 'Anita Beserra' 'Anna Beça'\n",
      " 'Anna Carvajal' 'Anselmo Dinis' 'Antero Milheiro' 'Antão Corte-Real'\n",
      " 'Antónia Canhão' 'António Lousado' 'Antônio Leiria' 'Antônio Sobral'\n",
      " 'Aníbal Bastos' 'Apuã Ourique' 'Arachane Matos' 'Arcidres Murici'\n",
      " 'Armindo Castilhos' 'Armindo Moreira' 'Artur Macedo' 'Artur Peña'\n",
      " 'Aurélio Barrios' 'Bartolomeu Vila-Chã' 'Basilio Soares' 'Belmira Colaço'\n",
      " 'Belmiro Marroquim' 'Bento Quintão' 'Berengária Iglesias'\n",
      " 'Bernardete Querino' 'Bernardete Tavera' 'Bernardete Águeda'\n",
      " 'Brenda Serralheiro' 'Brites Morales' 'Bruno Perdigão' 'Bráulio Junquera'\n",
      " 'Brígida Gusmão' 'Bukake Núñez' 'Bárbara Magalhães' 'Calisto Britto'\n",
      " 'Capitolina Ruela' 'Capitolina Valadares' 'Carla Briones' 'Carlos Murici'\n",
      " 'Carmem Reino' 'Carminda Alcaide' 'Carminda Dias' 'Catarina Bairros'\n",
      " 'Catarina Montero' 'Cauê Cotrim' 'Cauê Parahyba' 'Caím Queiroga'\n",
      " 'Cecília Carlos' 'Celestino Pereira' 'Celina Vale' 'Cesário Raminhos'\n",
      " 'Cid Pardo' 'Cidália Miera' 'Cidália Ornelas' 'Clotilde Carvalhoso'\n",
      " 'Cláudio Cotegipe' 'Cláudio Jorge' 'Cláudio Lopes' 'Clóvis Pamplona'\n",
      " 'Constantino Pedroso' 'Constança Alcaide' 'Corina Dâmaso' 'Cosme Ipanema'\n",
      " 'Cosme Lira' 'Cosme Zambujal' 'Crispim Cordero' 'Crispim Macena'\n",
      " 'Cristiana Campello' 'Custódio Gonçalves' 'Custódio Rolim'\n",
      " 'Cássia Guerra' 'Cássia Queiroz' 'Cássio Bettencourt' 'Cândida Silvestre'\n",
      " 'Cândido Sousa do Prado' 'Célia Meireles' 'David Brás' 'David Carvalhais'\n",
      " 'Davide Alcántara' 'Davide Fraga' 'Deise Farias' 'Deise Laureano'\n",
      " 'Deise Meneses' 'Deolinda Castelbranco' 'Deolinda Castella'\n",
      " 'Derli Lozada' 'Diana Baptista' 'Dinarte Mangueira' 'Dinarte Marino'\n",
      " 'Dinarte Tabalipa' 'Dinarte Tabares' 'Diodete Carijó' 'Diodete Queiroga'\n",
      " 'Diogo Simón' 'Dionísio Saltão' 'Dora Galvão' 'Dora Rocha'\n",
      " 'Doroteia Quintanilla' 'Duarte Sampaio' 'Dulce Prado' 'Dulce Tomé'\n",
      " 'Délia Chousa' 'Délio Paranhos' 'Eduarda Borba' 'Eduarda Madureira'\n",
      " 'Eloi Meneses' 'Eloi Pereira' 'Eloi Vasques' 'Elsa Alencar'\n",
      " 'Elsa Barreto' 'Elvira Açores' 'Eládio Froes' 'Ema Nieves'\n",
      " 'Emiliana Villalobos' 'Epaminondas Sousa de Arronches'\n",
      " 'Ermelinda Casquero' 'Estefânia Cyrne' 'Estela Mattos' 'Ester Castanho'\n",
      " 'Ester Dantas' 'Estêvão Simão' 'Eusébio Bairros' 'Eusébio Mata'\n",
      " 'Eusébio Pacheco' 'Eusébio Salomão' 'Evaristo Bahía' 'Fabiano Bethancout'\n",
      " 'Fabrício Varella' 'Fabrício Vidal' 'Faustino Maranhão' 'Fausto Miranda'\n",
      " 'Fausto Montenegro' 'Feliciana Silvera' 'Feliciano Franca'\n",
      " 'Felicidade Aldea' 'Filipa Mattozo' 'Filipe Lamego' 'Firmina Carrasco'\n",
      " 'Firmino Galván' 'Firmino Meireles' 'Firmino Puentes' 'Flamínia Miera'\n",
      " 'Flor Ginjeira' 'Flor Vilanova' 'Floriano Orriça' 'Floriano Siebra'\n",
      " 'Florinda Assunção' 'Florêncio Lameiras' 'Florêncio Vieira'\n",
      " 'Flávia Camacho' 'Flávia Campos' 'Francisca Ramallo' 'Francisca Teodoro'\n",
      " 'Francisco Medina' 'Galindo Bettencourt' 'Garibaldo Oleiro'\n",
      " 'Gaudêncio Ipiranga' 'Germana Conde' 'Gertrudes Hidalgo'\n",
      " 'Gertrudes Infante' 'Gertrudes Rabello' 'Gilberto Moutinho'\n",
      " 'Gilda Parente' 'Ginéculo Luz' 'Gisela Bahia' 'Gisela Candeias'\n",
      " 'Gláuber Guedella' 'Gláucia Canela' 'Godinho ou Godim Fogaça'\n",
      " 'Godinho ou Godim Jácome' 'Godofredo Mascareñas' 'Godofredo Quiroga'\n",
      " 'Gomes Hurtado' 'Gonçalo Figueiró' 'Graça Tabosa' 'Greice Lameirinhas'\n",
      " 'Guadalupe Rodrigues' 'Guadalupe Telinhos' 'Guaraci Imbassaí'\n",
      " 'Gueda Cartaxo' 'Gueda Laureano' 'Guida Beiriz' 'Guilhermina Hurtado'\n",
      " 'Guilhermina Vilaça' 'Hedviges Lessa' 'Heloísa Cayubi' 'Herberto Castro'\n",
      " 'Herberto Pari' 'Herculano Viveiros' 'Hermano Diegues' 'Hermígio Cezar'\n",
      " 'Hermígio Villaverde' 'Honorina Camarinho' 'Honorina Villaverde'\n",
      " 'Honório Mafra' 'Horácio Pires' 'Hugo Covilhã' 'Humberto Almeida'\n",
      " 'Humberto Lemes' 'Humberto Morgado' 'Humberto Vergueiro' 'Hélder Brión'\n",
      " 'Hélder Valentín' 'Ibijara Botelho' 'Ifigénia Lustosa' 'Ifigénia Pires'\n",
      " 'Ilduara Chávez' 'Ingrit Mayor' 'Inês Neres' 'Iolanda Rabello'\n",
      " 'Iracema Rodríguez' 'Iraci Alcoforado' 'Irani Jaguariúna'\n",
      " 'Irene Meireles' 'Irene Villanueva' 'Isabel Meirelles' 'Israel Canela'\n",
      " 'Iuri Guterres' 'Jacinto Dorneles' 'Jandaíra Albuquerque' 'Joana Ataí'\n",
      " 'Joaquim Hurtado' 'Joaquim Mieiro' 'Joaquina Vasconcelos']\n",
      "QUANT:   [1 1 1 1 1 1 1 1 1 1 1 1 1 1 1 1 1 1 1 1 1 1 1 1 1 1 1 1 1 1 1 1 1 1 1 1 1\n",
      " 1 1 1 1 1 1 1 1 1 1 1 1 1 1 1 1 1 1 1 1 1 1 1 1 1 1 1 1 1 1 1 1 1 1 1 1 1\n",
      " 1 1 1 1 1 1 1 1 1 1 1 1 1 1 1 1 1 1 1 1 1 1 1 1 1 1 1 1 1 1 1 1 1 1 1 1 1\n",
      " 1 1 1 1 1 1 1 1 1 1 1 1 1 1 1 1 1 1 1 1 1 1 1 1 1 1 1 1 1 1 1 1 1 1 1 1 1\n",
      " 1 1 1 1 1 1 1 1 1 1 1 1 1 1 1 1 1 1 1 1 1 1 1 1 1 1 1 1 1 1 1 1 1 1 1 1 1\n",
      " 1 1 1 1 1 1 1 1 1 1 1 1 1 1 1 1 1 1 1 1 1 1 1 1 1 1 1 1 1 1 1 1 1 1 1 1 1\n",
      " 1 1 1 1 1 1 1 1 1 1 1 1 1 1 1 1 1 1 1 1 1 1 1 1 1 1 1 1]\n",
      "\n",
      "Estado\n",
      "UNIQUES: ['AC' 'AL' 'AM' 'AP' 'BA' 'CE' 'DF' 'ES' 'GO' 'MA' 'MG' 'MS' 'MT' 'PA'\n",
      " 'PB' 'PE' 'PI' 'PR' 'RJ' 'RN' 'RO' 'RR' 'RS' 'SC' 'SE' 'SP' 'TO']\n",
      "QUANT:   [14  8 12  8 14  9  7  6  7  9  9  8  4 13 10  6 13  5 12 13  9 10  7 14\n",
      "  6  9  8]\n",
      "\n",
      "Sexo\n",
      "UNIQUES: ['F' 'M']\n",
      "QUANT:   [120 130]\n",
      "\n",
      "Duracao\n",
      "UNIQUES: [  1   2   3   4   5   6   7   8   9  10  11  12  13  14  16  17  18  19\n",
      "  20  21  22  23  24  25  26  27  28  29  30  31  32  33  34  35  36  37\n",
      "  38  39  40  41  42  43  44  46  47  48  49  50  51  52  53  54  55  57\n",
      "  58  59  60  61  62  63  64  65  66  67  68  69  70  71  72  73  74  76\n",
      "  77  78  79  80  81  82  83  84  85  86  87  88  89  90  91  92  93  94\n",
      "  96  97  98  99 100 101 102 103 104 105 106 107 108 109 110 111 112 113\n",
      " 114 115 116 117 118 119 120 121 122 123 124 125 126 127 128 129 130 131\n",
      " 132 133 134 135 136 137 138 139 140 141 142 143 144 145 146 147 148 149\n",
      " 150 151 152 153 154 155 156 157 158 159 160 161 162 163 164 165 166 167\n",
      " 168 169 170 171 172 173 174 175 176 177 178 179 180 181 182 183 184 185\n",
      " 186 187 188 189 190 191 192 193 194 195 196 197 198 201 202 203 204 205\n",
      " 206 207 208 209 210 211 212 213 214 215 216 217 218 219 220 221 222 223\n",
      " 224 225 226 227 228 229 230 231 232 235 236 237 238 239 240 241 242 243\n",
      " 244 245 246 247 248 249 250 251 252 253 254 255 256 257 258 259]\n",
      "QUANT:   [1 1 1 1 1 1 1 1 1 1 1 1 1 1 1 1 1 1 1 1 1 1 1 1 1 1 1 1 1 1 1 1 1 1 1 1 1\n",
      " 1 1 1 1 1 1 1 1 1 1 1 1 1 1 1 1 1 1 1 1 1 1 1 1 1 1 1 1 1 1 1 1 1 1 1 1 1\n",
      " 1 1 1 1 1 1 1 1 1 1 1 1 1 1 1 1 1 1 1 1 1 1 1 1 1 1 1 1 1 1 1 1 1 1 1 1 1\n",
      " 1 1 1 1 1 1 1 1 1 1 1 1 1 1 1 1 1 1 1 1 1 1 1 1 1 1 1 1 1 1 1 1 1 1 1 1 1\n",
      " 1 1 1 1 1 1 1 1 1 1 1 1 1 1 1 1 1 1 1 1 1 1 1 1 1 1 1 1 1 1 1 1 1 1 1 1 1\n",
      " 1 1 1 1 1 1 1 1 1 1 1 1 1 1 1 1 1 1 1 1 1 1 1 1 1 1 1 1 1 1 1 1 1 1 1 1 1\n",
      " 1 1 1 1 1 1 1 1 1 1 1 1 1 1 1 1 1 1 1 1 1 1 1 1 1 1 1 1]\n",
      "\n",
      "HistoricoCredito\n",
      "UNIQUES: ['Adelina Buenaventura' 'Adelino Gago' 'Adolfo Patrício'\n",
      " 'Adriana Guedelha' 'Adélio Lisboa' 'Adérito Bahía' 'Aida Dorneles'\n",
      " 'Alarico Quinterno' 'Alberto Cezimbra' 'Alberto Monsanto' 'Albino Canela'\n",
      " 'Alceste Varanda' 'Alcides Carvalhais' 'Aldo Martins' 'Alexandra Tabares'\n",
      " 'Alfredo Cotrim' 'Almeno Figueira' 'Alvito Peralta' 'Amadeu Martinho'\n",
      " 'Amélia Estévez' 'Ana Homem' 'Ana Peseiro' 'Anacleto Garrau'\n",
      " 'Anacleto Guterres' 'Andreia Carvalhal' 'Anita Beserra' 'Anna Beça'\n",
      " 'Anna Carvajal' 'Anselmo Dinis' 'Antero Milheiro' 'Antão Corte-Real'\n",
      " 'Antónia Canhão' 'António Lousado' 'Antônio Leiria' 'Antônio Sobral'\n",
      " 'Aníbal Bastos' 'Apuã Ourique' 'Arachane Matos' 'Arcidres Murici'\n",
      " 'Armindo Castilhos' 'Armindo Moreira' 'Artur Macedo' 'Artur Peña'\n",
      " 'Aurélio Barrios' 'Bartolomeu Vila-Chã' 'Basilio Soares' 'Belmira Colaço'\n",
      " 'Belmiro Marroquim' 'Bento Quintão' 'Berengária Iglesias'\n",
      " 'Bernardete Querino' 'Bernardete Tavera' 'Bernardete Águeda'\n",
      " 'Brenda Serralheiro' 'Brites Morales' 'Bruno Perdigão' 'Bráulio Junquera'\n",
      " 'Brígida Gusmão' 'Bukake Núñez' 'Bárbara Magalhães' 'Calisto Britto'\n",
      " 'Capitolina Ruela' 'Capitolina Valadares' 'Carla Briones' 'Carlos Murici'\n",
      " 'Carmem Reino' 'Carminda Alcaide' 'Carminda Dias' 'Catarina Bairros'\n",
      " 'Catarina Montero' 'Cauê Cotrim' 'Cauê Parahyba' 'Caím Queiroga'\n",
      " 'Cecília Carlos' 'Celestino Pereira' 'Celina Vale' 'Cesário Raminhos'\n",
      " 'Cid Pardo' 'Cidália Miera' 'Cidália Ornelas' 'Clotilde Carvalhoso'\n",
      " 'Cláudio Cotegipe' 'Cláudio Jorge' 'Cláudio Lopes' 'Clóvis Pamplona'\n",
      " 'Constantino Pedroso' 'Constança Alcaide' 'Corina Dâmaso' 'Cosme Ipanema'\n",
      " 'Cosme Lira' 'Cosme Zambujal' 'Crispim Cordero' 'Crispim Macena'\n",
      " 'Cristiana Campello' 'Custódio Gonçalves' 'Custódio Rolim'\n",
      " 'Cássia Guerra' 'Cássia Queiroz' 'Cássio Bettencourt' 'Cândida Silvestre'\n",
      " 'Cândido Sousa do Prado' 'Célia Meireles' 'David Brás' 'David Carvalhais'\n",
      " 'Davide Alcántara' 'Davide Fraga' 'Deise Farias' 'Deise Laureano'\n",
      " 'Deise Meneses' 'Deolinda Castelbranco' 'Deolinda Castella'\n",
      " 'Derli Lozada' 'Diana Baptista' 'Dinarte Mangueira' 'Dinarte Marino'\n",
      " 'Dinarte Tabalipa' 'Dinarte Tabares' 'Diodete Carijó' 'Diodete Queiroga'\n",
      " 'Diogo Simón' 'Dionísio Saltão' 'Dora Galvão' 'Dora Rocha'\n",
      " 'Doroteia Quintanilla' 'Duarte Sampaio' 'Dulce Prado' 'Dulce Tomé'\n",
      " 'Délia Chousa' 'Délio Paranhos' 'Eduarda Borba' 'Eduarda Madureira'\n",
      " 'Eloi Meneses' 'Eloi Pereira' 'Eloi Vasques' 'Elsa Alencar'\n",
      " 'Elsa Barreto' 'Elvira Açores' 'Eládio Froes' 'Ema Nieves'\n",
      " 'Emiliana Villalobos' 'Epaminondas Sousa de Arronches'\n",
      " 'Ermelinda Casquero' 'Estefânia Cyrne' 'Estela Mattos' 'Ester Castanho'\n",
      " 'Ester Dantas' 'Estêvão Simão' 'Eusébio Bairros' 'Eusébio Mata'\n",
      " 'Eusébio Pacheco' 'Eusébio Salomão' 'Evaristo Bahía' 'Fabiano Bethancout'\n",
      " 'Fabrício Varella' 'Fabrício Vidal' 'Faustino Maranhão' 'Fausto Miranda'\n",
      " 'Fausto Montenegro' 'Feliciana Silvera' 'Feliciano Franca'\n",
      " 'Felicidade Aldea' 'Filipa Mattozo' 'Filipe Lamego' 'Firmina Carrasco'\n",
      " 'Firmino Galván' 'Firmino Meireles' 'Firmino Puentes' 'Flamínia Miera'\n",
      " 'Flor Ginjeira' 'Flor Vilanova' 'Floriano Orriça' 'Floriano Siebra'\n",
      " 'Florinda Assunção' 'Florêncio Lameiras' 'Florêncio Vieira'\n",
      " 'Flávia Camacho' 'Flávia Campos' 'Francisca Ramallo' 'Francisca Teodoro'\n",
      " 'Francisco Medina' 'Galindo Bettencourt' 'Garibaldo Oleiro'\n",
      " 'Gaudêncio Ipiranga' 'Germana Conde' 'Gertrudes Hidalgo'\n",
      " 'Gertrudes Infante' 'Gertrudes Rabello' 'Gilberto Moutinho'\n",
      " 'Gilda Parente' 'Ginéculo Luz' 'Gisela Bahia' 'Gisela Candeias'\n",
      " 'Gláuber Guedella' 'Gláucia Canela' 'Godinho ou Godim Fogaça'\n",
      " 'Godinho ou Godim Jácome' 'Godofredo Mascareñas' 'Godofredo Quiroga'\n",
      " 'Gomes Hurtado' 'Gonçalo Figueiró' 'Graça Tabosa' 'Greice Lameirinhas'\n",
      " 'Guadalupe Rodrigues' 'Guadalupe Telinhos' 'Guaraci Imbassaí'\n",
      " 'Gueda Cartaxo' 'Gueda Laureano' 'Guida Beiriz' 'Guilhermina Hurtado'\n",
      " 'Guilhermina Vilaça' 'Hedviges Lessa' 'Heloísa Cayubi' 'Herberto Castro'\n",
      " 'Herberto Pari' 'Herculano Viveiros' 'Hermano Diegues' 'Hermígio Cezar'\n",
      " 'Hermígio Villaverde' 'Honorina Camarinho' 'Honorina Villaverde'\n",
      " 'Honório Mafra' 'Horácio Pires' 'Hugo Covilhã' 'Humberto Almeida'\n",
      " 'Humberto Lemes' 'Humberto Morgado' 'Humberto Vergueiro' 'Hélder Brión'\n",
      " 'Hélder Valentín' 'Ibijara Botelho' 'Ifigénia Lustosa' 'Ifigénia Pires'\n",
      " 'Ilduara Chávez' 'Ingrit Mayor' 'Inês Neres' 'Iolanda Rabello'\n",
      " 'Iracema Rodríguez' 'Iraci Alcoforado' 'Irani Jaguariúna'\n",
      " 'Irene Meireles' 'Irene Villanueva' 'Isabel Meirelles' 'Israel Canela'\n",
      " 'Iuri Guterres' 'Jacinto Dorneles' 'Jandaíra Albuquerque' 'Joana Ataí'\n",
      " 'Joaquim Hurtado' 'Joaquim Mieiro' 'Joaquina Vasconcelos']\n",
      "QUANT:   [1 1 1 1 1 1 1 1 1 1 1 1 1 1 1 1 1 1 1 1 1 1 1 1 1 1 1 1 1 1 1 1 1 1 1 1 1\n",
      " 1 1 1 1 1 1 1 1 1 1 1 1 1 1 1 1 1 1 1 1 1 1 1 1 1 1 1 1 1 1 1 1 1 1 1 1 1\n",
      " 1 1 1 1 1 1 1 1 1 1 1 1 1 1 1 1 1 1 1 1 1 1 1 1 1 1 1 1 1 1 1 1 1 1 1 1 1\n",
      " 1 1 1 1 1 1 1 1 1 1 1 1 1 1 1 1 1 1 1 1 1 1 1 1 1 1 1 1 1 1 1 1 1 1 1 1 1\n",
      " 1 1 1 1 1 1 1 1 1 1 1 1 1 1 1 1 1 1 1 1 1 1 1 1 1 1 1 1 1 1 1 1 1 1 1 1 1\n",
      " 1 1 1 1 1 1 1 1 1 1 1 1 1 1 1 1 1 1 1 1 1 1 1 1 1 1 1 1 1 1 1 1 1 1 1 1 1\n",
      " 1 1 1 1 1 1 1 1 1 1 1 1 1 1 1 1 1 1 1 1 1 1 1 1 1 1 1 1]\n",
      "\n",
      "Proposito\n",
      "UNIQUES: [0 1 2 3 4 5]\n",
      "QUANT:   [  3  75 126  22  15   9]\n",
      "\n",
      "Valor\n",
      "UNIQUES: [ 1  2  3  4  5  6  7  8  9 10]\n",
      "QUANT:   [81 12 41 44 24 32  3  6  3  4]\n",
      "\n",
      "Investimento\n",
      "UNIQUES: [  338   339   392   409   426   433   458   571   618   625   639   666\n",
      "   674   682   701   707   709   717   730   763   766   781   797   860\n",
      "   884   902   909   915   932   936   950   951  1007  1055  1108  1131\n",
      "  1158  1164  1168  1169  1175  1185  1199  1200  1204  1213  1225  1240\n",
      "  1258  1262  1264  1282  1288  1291  1295  1346  1352  1360  1364  1374\n",
      "  1382  1391  1393  1409  1410  1412  1413  1414  1424  1449  1469  1474\n",
      "  1478  1495  1501  1526  1537  1544  1567  1568  1577  1582  1595  1647\n",
      "  1680  1755  1768  1804  1819  1823  1835  1860  1881  1898  1908  1913\n",
      "  1919  1924  1925  1935  1953  1961  1963  1984  2012  2030  2064  2069\n",
      "  2073  2096  2100  2108  2121  2132  2134  2149  2150  2171  2225  2241\n",
      "  2249  2251  2288  2299  2315  2323  2333  2337  2366  2394  2415  2424\n",
      "  2445  2462  2507  2522  2577  2613  2622  2647  2684  2708  2728  2767\n",
      "  2835  2872  2978  3021  3031  3059  3074  3104  3149  3181  3244  3342\n",
      "  3378  3414  3416  3430  3447  3499  3512  3566  3578  3617  3777  3812\n",
      "  3832  3835  3844  3868  3913  3915  3965  3972  4020  4151  4210  4281\n",
      "  4308  4455  4591  4605  4657  4746  4771  4795  4870  5117  5129  5190\n",
      "  5234  5293  5371  5848  5866  5943  5951  5954  5965  6078  6110  6187\n",
      "  6204  6229  6260  6458  6468  6568  6836  6887  6948  6967  7057  7174\n",
      "  7228  7308  7418  7485  7721  7758  7855  7865  7882  8072  8133  8487\n",
      "  8613  9055  9436  9566  9572 10144 10623 10961 11938 12579 12612 14421\n",
      " 14555 15945]\n",
      "QUANT:   [1 1 1 1 1 1 1 1 1 1 1 1 1 1 1 1 1 1 1 1 1 1 1 1 1 1 1 1 2 1 1 1 1 1 1 1 1\n",
      " 1 1 1 1 1 1 1 1 1 1 1 1 2 1 2 1 1 2 1 1 1 1 1 1 1 1 1 1 1 1 1 1 1 1 1 1 1\n",
      " 1 1 1 1 1 1 1 1 1 1 1 1 1 1 1 1 1 1 1 1 1 1 1 2 1 2 1 1 1 1 1 1 1 1 1 1 1\n",
      " 1 1 1 1 1 1 1 1 1 1 1 1 1 1 1 2 1 1 1 1 1 1 1 1 1 1 1 1 1 1 1 1 1 1 1 2 1\n",
      " 1 1 1 1 1 1 1 1 1 1 1 1 1 1 1 1 1 1 1 1 1 1 1 1 1 1 1 1 1 1 1 1 1 1 1 1 1\n",
      " 1 1 1 1 1 1 1 1 1 1 1 1 1 1 1 1 1 1 1 1 1 1 1 1 1 1 1 1 1 1 1 1 1 1 1 1 1\n",
      " 1 1 1 1 1 1 1 1 1 1 1 1 1 1 1 1 1 1 1 1]\n",
      "\n",
      "Emprego\n",
      "UNIQUES: [1 2 3 4 5]\n",
      "QUANT:   [ 41 148  20  14  27]\n",
      "\n",
      "TempoParcelamento\n",
      "UNIQUES: [1. 2. 3. 4. 5.]\n",
      "QUANT:   [34 65 97 41 13]\n",
      "\n",
      "EstadoCivil\n",
      "UNIQUES: [1 2 3 4]\n",
      "QUANT:   [ 31  59  40 120]\n",
      "\n",
      "Fiador\n",
      "UNIQUES: [1 2 3 4]\n",
      "QUANT:   [ 72  11  21 146]\n",
      "\n",
      "ResidenciaDesde\n",
      "UNIQUES: [1 2 3 4]\n",
      "QUANT:   [  1   8 228  13]\n",
      "\n",
      "Idade\n",
      "UNIQUES: [1. 2. 3. 4.]\n",
      "QUANT:   [36 88 37 89]\n",
      "\n",
      "OutrosFinanciamentos\n",
      "UNIQUES: [20 21 22 23 24 25 26 27 28 29 30 31 32 33 34 35 36 37 38 39 40 41 42 43\n",
      " 44 45 46 47 48 49 50 51 52 53 54 55 56 57 58 60 61 63 64 65 66 67 68 70\n",
      " 74]\n",
      "QUANT:   [ 4  4  8 10 13 10 11 15  7  9 16  9  4  7  8 12 11  3  5 10  2  3  4  1\n",
      "  6  3  3  4  4  1  3  6  5  5  2  1  1  2  2  1  4  2  1  1  3  1  1  1\n",
      "  1]\n",
      "\n",
      "Habitacao\n",
      "UNIQUES: [1 2 3]\n",
      "QUANT:   [ 39  11 200]\n",
      "\n",
      "EmprestimoExistente\n",
      "UNIQUES: [1. 2. 3.]\n",
      "QUANT:   [187  24  39]\n",
      "\n",
      "Profissao\n",
      "UNIQUES: [1 2 3 4]\n",
      "QUANT:   [155  84   9   2]\n",
      "\n",
      "Dependentes\n",
      "UNIQUES: [  1   2   3   4 999]\n",
      "QUANT:   [ 36   4  47 161   2]\n",
      "\n",
      "SocioEmpresa\n",
      "UNIQUES: [1 2]\n",
      "QUANT:   [211  39]\n",
      "\n",
      "Estrangeiro\n",
      "UNIQUES: [0 1]\n",
      "QUANT:   [143 107]\n",
      "\n",
      "Status\n",
      "UNIQUES: [0 1]\n",
      "QUANT:   [240  10]\n",
      "\n"
     ]
    }
   ],
   "source": [
    "columns = df.columns\n",
    "\n",
    "for column in columns:\n",
    "    uniques, quant = np.unique(df[column], return_counts = True)\n",
    "    print(f'{column}\\nUNIQUES: {uniques}\\nQUANT:   {quant}\\n')"
   ]
  },
  {
   "cell_type": "markdown",
   "metadata": {},
   "source": [
    "## ***Reading new DATA***"
   ]
  },
  {
   "cell_type": "code",
   "execution_count": 10,
   "metadata": {},
   "outputs": [
    {
     "data": {
      "text/plain": [
       "(250, 22)"
      ]
     },
     "execution_count": 10,
     "metadata": {},
     "output_type": "execute_result"
    }
   ],
   "source": [
    "# Numeric Data\n",
    "df_ND = pd.read_csv('..\\\\scripts\\\\WBKClientsTreated.csv')\n",
    "df_ND.shape"
   ]
  },
  {
   "cell_type": "code",
   "execution_count": 11,
   "metadata": {},
   "outputs": [
    {
     "data": {
      "text/plain": [
       "(250, 22)"
      ]
     },
     "execution_count": 11,
     "metadata": {},
     "output_type": "execute_result"
    }
   ],
   "source": [
    "# Non Numeric Data\n",
    "df_NND = pd.read_csv('..\\\\scripts\\\\WBKCnonNumeric.csv')\n",
    "df_NND.shape"
   ]
  },
  {
   "cell_type": "markdown",
   "metadata": {},
   "source": [
    "## ***Analisys***"
   ]
  },
  {
   "cell_type": "code",
   "execution_count": 12,
   "metadata": {},
   "outputs": [
    {
     "data": {
      "image/png": "[encoded data removed]",
      "text/plain": [
       "<Figure size 720x576 with 3 Axes>"
      ]
     },
     "metadata": {},
     "output_type": "display_data"
    }
   ],
   "source": [
    "sns.set_theme(style=\"darkgrid\")\n",
    "\n",
    "plt.figure(figsize=(10, 8))\n",
    "\n",
    "plt.subplot(2, 2, 1)\n",
    "sns.countplot(data = df_NND, x = 'Sexo', palette = 'Set2');\n",
    "plt.title('Number of Male and Female clients')\n",
    "\n",
    "plt.subplot(2, 2, 2)\n",
    "sns.countplot(data = df_NND, x = 'Estado', palette = 'Set2');\n",
    "plt.title('Number of clients per state')\n",
    "plt.xticks(rotation = 70)\n",
    "\n",
    "plt.subplot(2, 2, 3)\n",
    "sns.countplot(data = df_NND, x = 'Status', palette = 'Set2');\n",
    "plt.title('In Debt x Loyal')\n",
    "\n",
    "plt.tight_layout()\n",
    "plt.show()"
   ]
  },
  {
   "cell_type": "code",
   "execution_count": 46,
   "metadata": {},
   "outputs": [
    {
     "name": "stderr",
     "output_type": "stream",
     "text": [
      "No artists with labels found to put in legend.  Note that artists whose label start with an underscore are ignored when legend() is called with no argument.\n"
     ]
    },
    {
     "data": {
      "image/png": "[encoded data removed]",
      "text/plain": [
       "<Figure size 720x576 with 2 Axes>"
      ]
     },
     "metadata": {},
     "output_type": "display_data"
    }
   ],
   "source": [
    "sns.set_theme(style=\"darkgrid\")\n",
    "\n",
    "plt.figure(figsize=(10, 8))\n",
    "\n",
    "plt.subplot(2, 1, 1)\n",
    "sns.histplot(data = df_NND, x = 'Status', hue = 'Sexo',palette = 'rocket_r');\n",
    "plt.title('Status de clientes por sexo')\n",
    "\n",
    "plt.subplot(2, 1, 2)\n",
    "sns.histplot(data = df_NND, x = 'Status', hue = 'Estado', palette = 'rocket_r');\n",
    "plt.title('Number of clients per state')\n",
    "plt.legend(loc = 'best')\n",
    "\n",
    "\n",
    "plt.tight_layout()\n",
    "plt.show()"
   ]
  },
  {
   "cell_type": "markdown",
   "metadata": {},
   "source": [
    "### **Plotting with Plotly for better visualization**"
   ]
  },
  {
   "cell_type": "code",
   "execution_count": null,
   "metadata": {},
   "outputs": [
    {
     "data": {
      "application/vnd.plotly.v1+json": {
       "config": {
        "plotlyServerURL": "https://plot.ly"
       },
       "data": [
        {
         "alignmentgroup": "True",
         "bingroup": "x",
         "hovertemplate": "Sexo=M<br>Status=%{x}<br>count=%{y}<extra></extra>",
         "legendgroup": "M",
         "marker": {
          "color": "#636efa",
          "pattern": {
           "shape": ""
          }
         },
         "name": "M",
         "offsetgroup": "M",
         "orientation": "v",
         "showlegend": true,
         "type": "histogram",
         "x": [
          "leal",
          "leal",
          "leal",
          "leal",
          "leal",
          "leal",
          "leal",
          "leal",
          "leal",
          "leal",
          "leal",
          "leal",
          "leal",
          "inadimplente",
          "leal",
          "leal",
          "leal",
          "leal",
          "leal",
          "leal",
          "leal",
          "leal",
          "leal",
          "leal",
          "leal",
          "leal",
          "leal",
          "leal",
          "leal",
          "leal",
          "leal",
          "leal",
          "leal",
          "leal",
          "leal",
          "leal",
          "leal",
          "leal",
          "leal",
          "leal",
          "leal",
          "leal",
          "leal",
          "leal",
          "leal",
          "leal",
          "leal",
          "leal",
          "leal",
          "leal",
          "leal",
          "leal",
          "leal",
          "leal",
          "leal",
          "leal",
          "leal",
          "leal",
          "leal",
          "leal",
          "inadimplente",
          "leal",
          "leal",
          "leal",
          "leal",
          "leal",
          "leal",
          "leal",
          "leal",
          "leal",
          "leal",
          "leal",
          "leal",
          "leal",
          "leal",
          "leal",
          "leal",
          "inadimplente",
          "leal",
          "leal",
          "leal",
          "leal",
          "leal",
          "leal",
          "leal",
          "leal",
          "leal",
          "leal",
          "leal",
          "leal",
          "leal",
          "leal",
          "leal",
          "leal",
          "leal",
          "leal",
          "leal",
          "leal",
          "leal",
          "leal",
          "leal",
          "leal",
          "leal",
          "leal",
          "leal",
          "leal",
          "leal",
          "leal",
          "inadimplente",
          "leal",
          "leal",
          "leal",
          "leal",
          "leal",
          "leal",
          "leal",
          "leal",
          "leal",
          "leal",
          "leal",
          "leal",
          "leal",
          "leal",
          "leal",
          "leal",
          "leal",
          "leal",
          "leal",
          "leal",
          "leal"
         ],
         "xaxis": "x",
         "yaxis": "y"
        },
        {
         "alignmentgroup": "True",
         "bingroup": "x",
         "hovertemplate": "Sexo=F<br>Status=%{x}<br>count=%{y}<extra></extra>",
         "legendgroup": "F",
         "marker": {
          "color": "#EF553B",
          "pattern": {
           "shape": ""
          }
         },
         "name": "F",
         "offsetgroup": "F",
         "orientation": "v",
         "showlegend": true,
         "type": "histogram",
         "x": [
          "leal",
          "leal",
          "leal",
          "leal",
          "inadimplente",
          "leal",
          "leal",
          "leal",
          "leal",
          "leal",
          "leal",
          "leal",
          "leal",
          "leal",
          "leal",
          "leal",
          "leal",
          "leal",
          "leal",
          "leal",
          "leal",
          "leal",
          "leal",
          "leal",
          "leal",
          "leal",
          "leal",
          "leal",
          "leal",
          "leal",
          "leal",
          "leal",
          "leal",
          "leal",
          "leal",
          "leal",
          "leal",
          "leal",
          "leal",
          "leal",
          "leal",
          "leal",
          "leal",
          "leal",
          "leal",
          "leal",
          "inadimplente",
          "leal",
          "leal",
          "leal",
          "leal",
          "leal",
          "leal",
          "leal",
          "leal",
          "leal",
          "leal",
          "leal",
          "leal",
          "leal",
          "leal",
          "leal",
          "leal",
          "inadimplente",
          "leal",
          "leal",
          "leal",
          "leal",
          "leal",
          "leal",
          "leal",
          "leal",
          "inadimplente",
          "leal",
          "leal",
          "leal",
          "leal",
          "leal",
          "leal",
          "leal",
          "leal",
          "leal",
          "leal",
          "leal",
          "leal",
          "leal",
          "leal",
          "leal",
          "leal",
          "leal",
          "leal",
          "leal",
          "leal",
          "inadimplente",
          "leal",
          "leal",
          "leal",
          "leal",
          "leal",
          "leal",
          "leal",
          "leal",
          "leal",
          "leal",
          "leal",
          "leal",
          "leal",
          "leal",
          "leal",
          "leal",
          "leal",
          "leal",
          "leal",
          "inadimplente",
          "leal",
          "leal",
          "leal",
          "leal",
          "leal",
          "leal"
         ],
         "xaxis": "x",
         "yaxis": "y"
        }
       ],
       "layout": {
        "barmode": "relative",
        "legend": {
         "title": {
          "text": "Sexo"
         },
         "tracegroupgap": 0
        },
        "template": {
         "data": {
          "bar": [
           {
            "error_x": {
             "color": "#2a3f5f"
            },
            "error_y": {
             "color": "#2a3f5f"
            },
            "marker": {
             "line": {
              "color": "#E5ECF6",
              "width": 0.5
             },
             "pattern": {
              "fillmode": "overlay",
              "size": 10,
              "solidity": 0.2
             }
            },
            "type": "bar"
           }
          ],
          "barpolar": [
           {
            "marker": {
             "line": {
              "color": "#E5ECF6",
              "width": 0.5
             },
             "pattern": {
              "fillmode": "overlay",
              "size": 10,
              "solidity": 0.2
             }
            },
            "type": "barpolar"
           }
          ],
          "carpet": [
           {
            "aaxis": {
             "endlinecolor": "#2a3f5f",
             "gridcolor": "white",
             "linecolor": "white",
             "minorgridcolor": "white",
             "startlinecolor": "#2a3f5f"
            },
            "baxis": {
             "endlinecolor": "#2a3f5f",
             "gridcolor": "white",
             "linecolor": "white",
             "minorgridcolor": "white",
             "startlinecolor": "#2a3f5f"
            },
            "type": "carpet"
           }
          ],
          "choropleth": [
           {
            "colorbar": {
             "outlinewidth": 0,
             "ticks": ""
            },
            "type": "choropleth"
           }
          ],
          "contour": [
           {
            "colorbar": {
             "outlinewidth": 0,
             "ticks": ""
            },
            "colorscale": [
             [
              0,
              "#0d0887"
             ],
             [
              0.1111111111111111,
              "#46039f"
             ],
             [
              0.2222222222222222,
              "#7201a8"
             ],
             [
              0.3333333333333333,
              "#9c179e"
             ],
             [
              0.4444444444444444,
              "#bd3786"
             ],
             [
              0.5555555555555556,
              "#d8576b"
             ],
             [
              0.6666666666666666,
              "#ed7953"
             ],
             [
              0.7777777777777778,
              "#fb9f3a"
             ],
             [
              0.8888888888888888,
              "#fdca26"
             ],
             [
              1,
              "#f0f921"
             ]
            ],
            "type": "contour"
           }
          ],
          "contourcarpet": [
           {
            "colorbar": {
             "outlinewidth": 0,
             "ticks": ""
            },
            "type": "contourcarpet"
           }
          ],
          "heatmap": [
           {
            "colorbar": {
             "outlinewidth": 0,
             "ticks": ""
            },
            "colorscale": [
             [
              0,
              "#0d0887"
             ],
             [
              0.1111111111111111,
              "#46039f"
             ],
             [
              0.2222222222222222,
              "#7201a8"
             ],
             [
              0.3333333333333333,
              "#9c179e"
             ],
             [
              0.4444444444444444,
              "#bd3786"
             ],
             [
              0.5555555555555556,
              "#d8576b"
             ],
             [
              0.6666666666666666,
              "#ed7953"
             ],
             [
              0.7777777777777778,
              "#fb9f3a"
             ],
             [
              0.8888888888888888,
              "#fdca26"
             ],
             [
              1,
              "#f0f921"
             ]
            ],
            "type": "heatmap"
           }
          ],
          "heatmapgl": [
           {
            "colorbar": {
             "outlinewidth": 0,
             "ticks": ""
            },
            "colorscale": [
             [
              0,
              "#0d0887"
             ],
             [
              0.1111111111111111,
              "#46039f"
             ],
             [
              0.2222222222222222,
              "#7201a8"
             ],
             [
              0.3333333333333333,
              "#9c179e"
             ],
             [
              0.4444444444444444,
              "#bd3786"
             ],
             [
              0.5555555555555556,
              "#d8576b"
             ],
             [
              0.6666666666666666,
              "#ed7953"
             ],
             [
              0.7777777777777778,
              "#fb9f3a"
             ],
             [
              0.8888888888888888,
              "#fdca26"
             ],
             [
              1,
              "#f0f921"
             ]
            ],
            "type": "heatmapgl"
           }
          ],
          "histogram": [
           {
            "marker": {
             "pattern": {
              "fillmode": "overlay",
              "size": 10,
              "solidity": 0.2
             }
            },
            "type": "histogram"
           }
          ],
          "histogram2d": [
           {
            "colorbar": {
             "outlinewidth": 0,
             "ticks": ""
            },
            "colorscale": [
             [
              0,
              "#0d0887"
             ],
             [
              0.1111111111111111,
              "#46039f"
             ],
             [
              0.2222222222222222,
              "#7201a8"
             ],
             [
              0.3333333333333333,
              "#9c179e"
             ],
             [
              0.4444444444444444,
              "#bd3786"
             ],
             [
              0.5555555555555556,
              "#d8576b"
             ],
             [
              0.6666666666666666,
              "#ed7953"
             ],
             [
              0.7777777777777778,
              "#fb9f3a"
             ],
             [
              0.8888888888888888,
              "#fdca26"
             ],
             [
              1,
              "#f0f921"
             ]
            ],
            "type": "histogram2d"
           }
          ],
          "histogram2dcontour": [
           {
            "colorbar": {
             "outlinewidth": 0,
             "ticks": ""
            },
            "colorscale": [
             [
              0,
              "#0d0887"
             ],
             [
              0.1111111111111111,
              "#46039f"
             ],
             [
              0.2222222222222222,
              "#7201a8"
             ],
             [
              0.3333333333333333,
              "#9c179e"
             ],
             [
              0.4444444444444444,
              "#bd3786"
             ],
             [
              0.5555555555555556,
              "#d8576b"
             ],
             [
              0.6666666666666666,
              "#ed7953"
             ],
             [
              0.7777777777777778,
              "#fb9f3a"
             ],
             [
              0.8888888888888888,
              "#fdca26"
             ],
             [
              1,
              "#f0f921"
             ]
            ],
            "type": "histogram2dcontour"
           }
          ],
          "mesh3d": [
           {
            "colorbar": {
             "outlinewidth": 0,
             "ticks": ""
            },
            "type": "mesh3d"
           }
          ],
          "parcoords": [
           {
            "line": {
             "colorbar": {
              "outlinewidth": 0,
              "ticks": ""
             }
            },
            "type": "parcoords"
           }
          ],
          "pie": [
           {
            "automargin": true,
            "type": "pie"
           }
          ],
          "scatter": [
           {
            "marker": {
             "colorbar": {
              "outlinewidth": 0,
              "ticks": ""
             }
            },
            "type": "scatter"
           }
          ],
          "scatter3d": [
           {
            "line": {
             "colorbar": {
              "outlinewidth": 0,
              "ticks": ""
             }
            },
            "marker": {
             "colorbar": {
              "outlinewidth": 0,
              "ticks": ""
             }
            },
            "type": "scatter3d"
           }
          ],
          "scattercarpet": [
           {
            "marker": {
             "colorbar": {
              "outlinewidth": 0,
              "ticks": ""
             }
            },
            "type": "scattercarpet"
           }
          ],
          "scattergeo": [
           {
            "marker": {
             "colorbar": {
              "outlinewidth": 0,
              "ticks": ""
             }
            },
            "type": "scattergeo"
           }
          ],
          "scattergl": [
           {
            "marker": {
             "colorbar": {
              "outlinewidth": 0,
              "ticks": ""
             }
            },
            "type": "scattergl"
           }
          ],
          "scattermapbox": [
           {
            "marker": {
             "colorbar": {
              "outlinewidth": 0,
              "ticks": ""
             }
            },
            "type": "scattermapbox"
           }
          ],
          "scatterpolar": [
           {
            "marker": {
             "colorbar": {
              "outlinewidth": 0,
              "ticks": ""
             }
            },
            "type": "scatterpolar"
           }
          ],
          "scatterpolargl": [
           {
            "marker": {
             "colorbar": {
              "outlinewidth": 0,
              "ticks": ""
             }
            },
            "type": "scatterpolargl"
           }
          ],
          "scatterternary": [
           {
            "marker": {
             "colorbar": {
              "outlinewidth": 0,
              "ticks": ""
             }
            },
            "type": "scatterternary"
           }
          ],
          "surface": [
           {
            "colorbar": {
             "outlinewidth": 0,
             "ticks": ""
            },
            "colorscale": [
             [
              0,
              "#0d0887"
             ],
             [
              0.1111111111111111,
              "#46039f"
             ],
             [
              0.2222222222222222,
              "#7201a8"
             ],
             [
              0.3333333333333333,
              "#9c179e"
             ],
             [
              0.4444444444444444,
              "#bd3786"
             ],
             [
              0.5555555555555556,
              "#d8576b"
             ],
             [
              0.6666666666666666,
              "#ed7953"
             ],
             [
              0.7777777777777778,
              "#fb9f3a"
             ],
             [
              0.8888888888888888,
              "#fdca26"
             ],
             [
              1,
              "#f0f921"
             ]
            ],
            "type": "surface"
           }
          ],
          "table": [
           {
            "cells": {
             "fill": {
              "color": "#EBF0F8"
             },
             "line": {
              "color": "white"
             }
            },
            "header": {
             "fill": {
              "color": "#C8D4E3"
             },
             "line": {
              "color": "white"
             }
            },
            "type": "table"
           }
          ]
         },
         "layout": {
          "annotationdefaults": {
           "arrowcolor": "#2a3f5f",
           "arrowhead": 0,
           "arrowwidth": 1
          },
          "autotypenumbers": "strict",
          "coloraxis": {
           "colorbar": {
            "outlinewidth": 0,
            "ticks": ""
           }
          },
          "colorscale": {
           "diverging": [
            [
             0,
             "#8e0152"
            ],
            [
             0.1,
             "#c51b7d"
            ],
            [
             0.2,
             "#de77ae"
            ],
            [
             0.3,
             "#f1b6da"
            ],
            [
             0.4,
             "#fde0ef"
            ],
            [
             0.5,
             "#f7f7f7"
            ],
            [
             0.6,
             "#e6f5d0"
            ],
            [
             0.7,
             "#b8e186"
            ],
            [
             0.8,
             "#7fbc41"
            ],
            [
             0.9,
             "#4d9221"
            ],
            [
             1,
             "#276419"
            ]
           ],
           "sequential": [
            [
             0,
             "#0d0887"
            ],
            [
             0.1111111111111111,
             "#46039f"
            ],
            [
             0.2222222222222222,
             "#7201a8"
            ],
            [
             0.3333333333333333,
             "#9c179e"
            ],
            [
             0.4444444444444444,
             "#bd3786"
            ],
            [
             0.5555555555555556,
             "#d8576b"
            ],
            [
             0.6666666666666666,
             "#ed7953"
            ],
            [
             0.7777777777777778,
             "#fb9f3a"
            ],
            [
             0.8888888888888888,
             "#fdca26"
            ],
            [
             1,
             "#f0f921"
            ]
           ],
           "sequentialminus": [
            [
             0,
             "#0d0887"
            ],
            [
             0.1111111111111111,
             "#46039f"
            ],
            [
             0.2222222222222222,
             "#7201a8"
            ],
            [
             0.3333333333333333,
             "#9c179e"
            ],
            [
             0.4444444444444444,
             "#bd3786"
            ],
            [
             0.5555555555555556,
             "#d8576b"
            ],
            [
             0.6666666666666666,
             "#ed7953"
            ],
            [
             0.7777777777777778,
             "#fb9f3a"
            ],
            [
             0.8888888888888888,
             "#fdca26"
            ],
            [
             1,
             "#f0f921"
            ]
           ]
          },
          "colorway": [
           "#636efa",
           "#EF553B",
           "#00cc96",
           "#ab63fa",
           "#FFA15A",
           "#19d3f3",
           "#FF6692",
           "#B6E880",
           "#FF97FF",
           "#FECB52"
          ],
          "font": {
           "color": "#2a3f5f"
          },
          "geo": {
           "bgcolor": "white",
           "lakecolor": "white",
           "landcolor": "#E5ECF6",
           "showlakes": true,
           "showland": true,
           "subunitcolor": "white"
          },
          "hoverlabel": {
           "align": "left"
          },
          "hovermode": "closest",
          "mapbox": {
           "style": "light"
          },
          "paper_bgcolor": "white",
          "plot_bgcolor": "#E5ECF6",
          "polar": {
           "angularaxis": {
            "gridcolor": "white",
            "linecolor": "white",
            "ticks": ""
           },
           "bgcolor": "#E5ECF6",
           "radialaxis": {
            "gridcolor": "white",
            "linecolor": "white",
            "ticks": ""
           }
          },
          "scene": {
           "xaxis": {
            "backgroundcolor": "#E5ECF6",
            "gridcolor": "white",
            "gridwidth": 2,
            "linecolor": "white",
            "showbackground": true,
            "ticks": "",
            "zerolinecolor": "white"
           },
           "yaxis": {
            "backgroundcolor": "#E5ECF6",
            "gridcolor": "white",
            "gridwidth": 2,
            "linecolor": "white",
            "showbackground": true,
            "ticks": "",
            "zerolinecolor": "white"
           },
           "zaxis": {
            "backgroundcolor": "#E5ECF6",
            "gridcolor": "white",
            "gridwidth": 2,
            "linecolor": "white",
            "showbackground": true,
            "ticks": "",
            "zerolinecolor": "white"
           }
          },
          "shapedefaults": {
           "line": {
            "color": "#2a3f5f"
           }
          },
          "ternary": {
           "aaxis": {
            "gridcolor": "white",
            "linecolor": "white",
            "ticks": ""
           },
           "baxis": {
            "gridcolor": "white",
            "linecolor": "white",
            "ticks": ""
           },
           "bgcolor": "#E5ECF6",
           "caxis": {
            "gridcolor": "white",
            "linecolor": "white",
            "ticks": ""
           }
          },
          "title": {
           "x": 0.05
          },
          "xaxis": {
           "automargin": true,
           "gridcolor": "white",
           "linecolor": "white",
           "ticks": "",
           "title": {
            "standoff": 15
           },
           "zerolinecolor": "white",
           "zerolinewidth": 2
          },
          "yaxis": {
           "automargin": true,
           "gridcolor": "white",
           "linecolor": "white",
           "ticks": "",
           "title": {
            "standoff": 15
           },
           "zerolinecolor": "white",
           "zerolinewidth": 2
          }
         }
        },
        "title": {
         "text": "Status de clientes por sexo"
        },
        "xaxis": {
         "anchor": "y",
         "domain": [
          0,
          1
         ],
         "title": {
          "text": "Status"
         }
        },
        "yaxis": {
         "anchor": "x",
         "domain": [
          0,
          1
         ],
         "title": {
          "text": "count"
         }
        }
       }
      }
     },
     "metadata": {},
     "output_type": "display_data"
    }
   ],
   "source": [
    "fig = px.histogram(df_NND, x = 'Status', color = 'Sexo',\n",
    "                   title = 'Status de clientes por sexo')\n",
    "\n",
    "fig.show()"
   ]
  },
  {
   "cell_type": "code",
   "execution_count": null,
   "metadata": {},
   "outputs": [
    {
     "data": {
      "application/vnd.plotly.v1+json": {
       "config": {
        "plotlyServerURL": "https://plot.ly"
       },
       "data": [
        {
         "alignmentgroup": "True",
         "bingroup": "y",
         "hovertemplate": "Estado=RJ<br>count=%{x}<br>Status=%{y}<extra></extra>",
         "legendgroup": "RJ",
         "marker": {
          "color": "#636efa",
          "pattern": {
           "shape": ""
          }
         },
         "name": "RJ",
         "offsetgroup": "RJ",
         "orientation": "h",
         "showlegend": true,
         "type": "histogram",
         "xaxis": "x",
         "y": [
          "leal",
          "leal",
          "leal",
          "leal",
          "inadimplente",
          "leal",
          "leal",
          "leal",
          "leal",
          "inadimplente",
          "leal",
          "leal"
         ],
         "yaxis": "y"
        },
        {
         "alignmentgroup": "True",
         "bingroup": "y",
         "hovertemplate": "Estado=SE<br>count=%{x}<br>Status=%{y}<extra></extra>",
         "legendgroup": "SE",
         "marker": {
          "color": "#EF553B",
          "pattern": {
           "shape": ""
          }
         },
         "name": "SE",
         "offsetgroup": "SE",
         "orientation": "h",
         "showlegend": true,
         "type": "histogram",
         "xaxis": "x",
         "y": [
          "leal",
          "leal",
          "leal",
          "leal",
          "leal",
          "leal"
         ],
         "yaxis": "y"
        },
        {
         "alignmentgroup": "True",
         "bingroup": "y",
         "hovertemplate": "Estado=MA<br>count=%{x}<br>Status=%{y}<extra></extra>",
         "legendgroup": "MA",
         "marker": {
          "color": "#00cc96",
          "pattern": {
           "shape": ""
          }
         },
         "name": "MA",
         "offsetgroup": "MA",
         "orientation": "h",
         "showlegend": true,
         "type": "histogram",
         "xaxis": "x",
         "y": [
          "leal",
          "leal",
          "leal",
          "leal",
          "leal",
          "leal",
          "leal",
          "leal",
          "leal"
         ],
         "yaxis": "y"
        },
        {
         "alignmentgroup": "True",
         "bingroup": "y",
         "hovertemplate": "Estado=PE<br>count=%{x}<br>Status=%{y}<extra></extra>",
         "legendgroup": "PE",
         "marker": {
          "color": "#ab63fa",
          "pattern": {
           "shape": ""
          }
         },
         "name": "PE",
         "offsetgroup": "PE",
         "orientation": "h",
         "showlegend": true,
         "type": "histogram",
         "xaxis": "x",
         "y": [
          "leal",
          "inadimplente",
          "leal",
          "leal",
          "leal",
          "leal"
         ],
         "yaxis": "y"
        },
        {
         "alignmentgroup": "True",
         "bingroup": "y",
         "hovertemplate": "Estado=RO<br>count=%{x}<br>Status=%{y}<extra></extra>",
         "legendgroup": "RO",
         "marker": {
          "color": "#FFA15A",
          "pattern": {
           "shape": ""
          }
         },
         "name": "RO",
         "offsetgroup": "RO",
         "orientation": "h",
         "showlegend": true,
         "type": "histogram",
         "xaxis": "x",
         "y": [
          "leal",
          "leal",
          "leal",
          "inadimplente",
          "leal",
          "leal",
          "leal",
          "leal",
          "leal"
         ],
         "yaxis": "y"
        },
        {
         "alignmentgroup": "True",
         "bingroup": "y",
         "hovertemplate": "Estado=RN<br>count=%{x}<br>Status=%{y}<extra></extra>",
         "legendgroup": "RN",
         "marker": {
          "color": "#19d3f3",
          "pattern": {
           "shape": ""
          }
         },
         "name": "RN",
         "offsetgroup": "RN",
         "orientation": "h",
         "showlegend": true,
         "type": "histogram",
         "xaxis": "x",
         "y": [
          "leal",
          "leal",
          "leal",
          "leal",
          "leal",
          "leal",
          "leal",
          "leal",
          "leal",
          "leal",
          "leal",
          "leal",
          "leal"
         ],
         "yaxis": "y"
        },
        {
         "alignmentgroup": "True",
         "bingroup": "y",
         "hovertemplate": "Estado=AC<br>count=%{x}<br>Status=%{y}<extra></extra>",
         "legendgroup": "AC",
         "marker": {
          "color": "#FF6692",
          "pattern": {
           "shape": ""
          }
         },
         "name": "AC",
         "offsetgroup": "AC",
         "orientation": "h",
         "showlegend": true,
         "type": "histogram",
         "xaxis": "x",
         "y": [
          "leal",
          "leal",
          "leal",
          "leal",
          "leal",
          "leal",
          "leal",
          "leal",
          "inadimplente",
          "leal",
          "leal",
          "leal",
          "leal",
          "leal"
         ],
         "yaxis": "y"
        },
        {
         "alignmentgroup": "True",
         "bingroup": "y",
         "hovertemplate": "Estado=AM<br>count=%{x}<br>Status=%{y}<extra></extra>",
         "legendgroup": "AM",
         "marker": {
          "color": "#B6E880",
          "pattern": {
           "shape": ""
          }
         },
         "name": "AM",
         "offsetgroup": "AM",
         "orientation": "h",
         "showlegend": true,
         "type": "histogram",
         "xaxis": "x",
         "y": [
          "leal",
          "inadimplente",
          "leal",
          "leal",
          "leal",
          "leal",
          "leal",
          "leal",
          "leal",
          "leal",
          "leal",
          "inadimplente"
         ],
         "yaxis": "y"
        },
        {
         "alignmentgroup": "True",
         "bingroup": "y",
         "hovertemplate": "Estado=RR<br>count=%{x}<br>Status=%{y}<extra></extra>",
         "legendgroup": "RR",
         "marker": {
          "color": "#FF97FF",
          "pattern": {
           "shape": ""
          }
         },
         "name": "RR",
         "offsetgroup": "RR",
         "orientation": "h",
         "showlegend": true,
         "type": "histogram",
         "xaxis": "x",
         "y": [
          "leal",
          "leal",
          "leal",
          "leal",
          "leal",
          "leal",
          "leal",
          "leal",
          "leal",
          "leal"
         ],
         "yaxis": "y"
        },
        {
         "alignmentgroup": "True",
         "bingroup": "y",
         "hovertemplate": "Estado=GO<br>count=%{x}<br>Status=%{y}<extra></extra>",
         "legendgroup": "GO",
         "marker": {
          "color": "#FECB52",
          "pattern": {
           "shape": ""
          }
         },
         "name": "GO",
         "offsetgroup": "GO",
         "orientation": "h",
         "showlegend": true,
         "type": "histogram",
         "xaxis": "x",
         "y": [
          "leal",
          "leal",
          "leal",
          "leal",
          "leal",
          "leal",
          "leal"
         ],
         "yaxis": "y"
        },
        {
         "alignmentgroup": "True",
         "bingroup": "y",
         "hovertemplate": "Estado=MG<br>count=%{x}<br>Status=%{y}<extra></extra>",
         "legendgroup": "MG",
         "marker": {
          "color": "#636efa",
          "pattern": {
           "shape": ""
          }
         },
         "name": "MG",
         "offsetgroup": "MG",
         "orientation": "h",
         "showlegend": true,
         "type": "histogram",
         "xaxis": "x",
         "y": [
          "leal",
          "leal",
          "leal",
          "leal",
          "leal",
          "leal",
          "leal",
          "leal",
          "leal"
         ],
         "yaxis": "y"
        },
        {
         "alignmentgroup": "True",
         "bingroup": "y",
         "hovertemplate": "Estado=SC<br>count=%{x}<br>Status=%{y}<extra></extra>",
         "legendgroup": "SC",
         "marker": {
          "color": "#EF553B",
          "pattern": {
           "shape": ""
          }
         },
         "name": "SC",
         "offsetgroup": "SC",
         "orientation": "h",
         "showlegend": true,
         "type": "histogram",
         "xaxis": "x",
         "y": [
          "leal",
          "leal",
          "leal",
          "leal",
          "leal",
          "leal",
          "leal",
          "leal",
          "leal",
          "leal",
          "leal",
          "inadimplente",
          "leal",
          "leal"
         ],
         "yaxis": "y"
        },
        {
         "alignmentgroup": "True",
         "bingroup": "y",
         "hovertemplate": "Estado=PA<br>count=%{x}<br>Status=%{y}<extra></extra>",
         "legendgroup": "PA",
         "marker": {
          "color": "#00cc96",
          "pattern": {
           "shape": ""
          }
         },
         "name": "PA",
         "offsetgroup": "PA",
         "orientation": "h",
         "showlegend": true,
         "type": "histogram",
         "xaxis": "x",
         "y": [
          "leal",
          "leal",
          "leal",
          "leal",
          "leal",
          "leal",
          "leal",
          "leal",
          "leal",
          "leal",
          "leal",
          "leal",
          "leal"
         ],
         "yaxis": "y"
        },
        {
         "alignmentgroup": "True",
         "bingroup": "y",
         "hovertemplate": "Estado=TO<br>count=%{x}<br>Status=%{y}<extra></extra>",
         "legendgroup": "TO",
         "marker": {
          "color": "#ab63fa",
          "pattern": {
           "shape": ""
          }
         },
         "name": "TO",
         "offsetgroup": "TO",
         "orientation": "h",
         "showlegend": true,
         "type": "histogram",
         "xaxis": "x",
         "y": [
          "leal",
          "leal",
          "leal",
          "leal",
          "leal",
          "leal",
          "leal",
          "leal"
         ],
         "yaxis": "y"
        },
        {
         "alignmentgroup": "True",
         "bingroup": "y",
         "hovertemplate": "Estado=PI<br>count=%{x}<br>Status=%{y}<extra></extra>",
         "legendgroup": "PI",
         "marker": {
          "color": "#FFA15A",
          "pattern": {
           "shape": ""
          }
         },
         "name": "PI",
         "offsetgroup": "PI",
         "orientation": "h",
         "showlegend": true,
         "type": "histogram",
         "xaxis": "x",
         "y": [
          "leal",
          "leal",
          "leal",
          "leal",
          "leal",
          "leal",
          "leal",
          "leal",
          "leal",
          "leal",
          "leal",
          "inadimplente",
          "leal"
         ],
         "yaxis": "y"
        },
        {
         "alignmentgroup": "True",
         "bingroup": "y",
         "hovertemplate": "Estado=SP<br>count=%{x}<br>Status=%{y}<extra></extra>",
         "legendgroup": "SP",
         "marker": {
          "color": "#19d3f3",
          "pattern": {
           "shape": ""
          }
         },
         "name": "SP",
         "offsetgroup": "SP",
         "orientation": "h",
         "showlegend": true,
         "type": "histogram",
         "xaxis": "x",
         "y": [
          "leal",
          "leal",
          "inadimplente",
          "leal",
          "leal",
          "leal",
          "leal",
          "leal",
          "leal"
         ],
         "yaxis": "y"
        },
        {
         "alignmentgroup": "True",
         "bingroup": "y",
         "hovertemplate": "Estado=CE<br>count=%{x}<br>Status=%{y}<extra></extra>",
         "legendgroup": "CE",
         "marker": {
          "color": "#FF6692",
          "pattern": {
           "shape": ""
          }
         },
         "name": "CE",
         "offsetgroup": "CE",
         "orientation": "h",
         "showlegend": true,
         "type": "histogram",
         "xaxis": "x",
         "y": [
          "leal",
          "leal",
          "leal",
          "leal",
          "leal",
          "leal",
          "leal",
          "leal",
          "leal"
         ],
         "yaxis": "y"
        },
        {
         "alignmentgroup": "True",
         "bingroup": "y",
         "hovertemplate": "Estado=AP<br>count=%{x}<br>Status=%{y}<extra></extra>",
         "legendgroup": "AP",
         "marker": {
          "color": "#B6E880",
          "pattern": {
           "shape": ""
          }
         },
         "name": "AP",
         "offsetgroup": "AP",
         "orientation": "h",
         "showlegend": true,
         "type": "histogram",
         "xaxis": "x",
         "y": [
          "leal",
          "leal",
          "leal",
          "leal",
          "leal",
          "leal",
          "leal",
          "leal"
         ],
         "yaxis": "y"
        },
        {
         "alignmentgroup": "True",
         "bingroup": "y",
         "hovertemplate": "Estado=RS<br>count=%{x}<br>Status=%{y}<extra></extra>",
         "legendgroup": "RS",
         "marker": {
          "color": "#FF97FF",
          "pattern": {
           "shape": ""
          }
         },
         "name": "RS",
         "offsetgroup": "RS",
         "orientation": "h",
         "showlegend": true,
         "type": "histogram",
         "xaxis": "x",
         "y": [
          "leal",
          "leal",
          "leal",
          "leal",
          "leal",
          "leal",
          "leal"
         ],
         "yaxis": "y"
        },
        {
         "alignmentgroup": "True",
         "bingroup": "y",
         "hovertemplate": "Estado=ES<br>count=%{x}<br>Status=%{y}<extra></extra>",
         "legendgroup": "ES",
         "marker": {
          "color": "#FECB52",
          "pattern": {
           "shape": ""
          }
         },
         "name": "ES",
         "offsetgroup": "ES",
         "orientation": "h",
         "showlegend": true,
         "type": "histogram",
         "xaxis": "x",
         "y": [
          "leal",
          "leal",
          "leal",
          "leal",
          "leal",
          "leal"
         ],
         "yaxis": "y"
        },
        {
         "alignmentgroup": "True",
         "bingroup": "y",
         "hovertemplate": "Estado=AL<br>count=%{x}<br>Status=%{y}<extra></extra>",
         "legendgroup": "AL",
         "marker": {
          "color": "#636efa",
          "pattern": {
           "shape": ""
          }
         },
         "name": "AL",
         "offsetgroup": "AL",
         "orientation": "h",
         "showlegend": true,
         "type": "histogram",
         "xaxis": "x",
         "y": [
          "leal",
          "leal",
          "leal",
          "leal",
          "leal",
          "leal",
          "leal",
          "leal"
         ],
         "yaxis": "y"
        },
        {
         "alignmentgroup": "True",
         "bingroup": "y",
         "hovertemplate": "Estado=BA<br>count=%{x}<br>Status=%{y}<extra></extra>",
         "legendgroup": "BA",
         "marker": {
          "color": "#EF553B",
          "pattern": {
           "shape": ""
          }
         },
         "name": "BA",
         "offsetgroup": "BA",
         "orientation": "h",
         "showlegend": true,
         "type": "histogram",
         "xaxis": "x",
         "y": [
          "leal",
          "leal",
          "leal",
          "leal",
          "leal",
          "leal",
          "leal",
          "leal",
          "leal",
          "leal",
          "leal",
          "leal",
          "leal",
          "leal"
         ],
         "yaxis": "y"
        },
        {
         "alignmentgroup": "True",
         "bingroup": "y",
         "hovertemplate": "Estado=PB<br>count=%{x}<br>Status=%{y}<extra></extra>",
         "legendgroup": "PB",
         "marker": {
          "color": "#00cc96",
          "pattern": {
           "shape": ""
          }
         },
         "name": "PB",
         "offsetgroup": "PB",
         "orientation": "h",
         "showlegend": true,
         "type": "histogram",
         "xaxis": "x",
         "y": [
          "leal",
          "leal",
          "leal",
          "leal",
          "leal",
          "leal",
          "leal",
          "leal",
          "leal",
          "leal"
         ],
         "yaxis": "y"
        },
        {
         "alignmentgroup": "True",
         "bingroup": "y",
         "hovertemplate": "Estado=DF<br>count=%{x}<br>Status=%{y}<extra></extra>",
         "legendgroup": "DF",
         "marker": {
          "color": "#ab63fa",
          "pattern": {
           "shape": ""
          }
         },
         "name": "DF",
         "offsetgroup": "DF",
         "orientation": "h",
         "showlegend": true,
         "type": "histogram",
         "xaxis": "x",
         "y": [
          "leal",
          "leal",
          "leal",
          "leal",
          "leal",
          "leal",
          "leal"
         ],
         "yaxis": "y"
        },
        {
         "alignmentgroup": "True",
         "bingroup": "y",
         "hovertemplate": "Estado=MS<br>count=%{x}<br>Status=%{y}<extra></extra>",
         "legendgroup": "MS",
         "marker": {
          "color": "#FFA15A",
          "pattern": {
           "shape": ""
          }
         },
         "name": "MS",
         "offsetgroup": "MS",
         "orientation": "h",
         "showlegend": true,
         "type": "histogram",
         "xaxis": "x",
         "y": [
          "leal",
          "leal",
          "leal",
          "leal",
          "leal",
          "leal",
          "leal",
          "leal"
         ],
         "yaxis": "y"
        },
        {
         "alignmentgroup": "True",
         "bingroup": "y",
         "hovertemplate": "Estado=PR<br>count=%{x}<br>Status=%{y}<extra></extra>",
         "legendgroup": "PR",
         "marker": {
          "color": "#19d3f3",
          "pattern": {
           "shape": ""
          }
         },
         "name": "PR",
         "offsetgroup": "PR",
         "orientation": "h",
         "showlegend": true,
         "type": "histogram",
         "xaxis": "x",
         "y": [
          "leal",
          "leal",
          "leal",
          "leal",
          "leal"
         ],
         "yaxis": "y"
        },
        {
         "alignmentgroup": "True",
         "bingroup": "y",
         "hovertemplate": "Estado=MT<br>count=%{x}<br>Status=%{y}<extra></extra>",
         "legendgroup": "MT",
         "marker": {
          "color": "#FF6692",
          "pattern": {
           "shape": ""
          }
         },
         "name": "MT",
         "offsetgroup": "MT",
         "orientation": "h",
         "showlegend": true,
         "type": "histogram",
         "xaxis": "x",
         "y": [
          "leal",
          "leal",
          "leal",
          "leal"
         ],
         "yaxis": "y"
        }
       ],
       "layout": {
        "barmode": "relative",
        "legend": {
         "title": {
          "text": "Estado"
         },
         "tracegroupgap": 0
        },
        "template": {
         "data": {
          "bar": [
           {
            "error_x": {
             "color": "#2a3f5f"
            },
            "error_y": {
             "color": "#2a3f5f"
            },
            "marker": {
             "line": {
              "color": "#E5ECF6",
              "width": 0.5
             },
             "pattern": {
              "fillmode": "overlay",
              "size": 10,
              "solidity": 0.2
             }
            },
            "type": "bar"
           }
          ],
          "barpolar": [
           {
            "marker": {
             "line": {
              "color": "#E5ECF6",
              "width": 0.5
             },
             "pattern": {
              "fillmode": "overlay",
              "size": 10,
              "solidity": 0.2
             }
            },
            "type": "barpolar"
           }
          ],
          "carpet": [
           {
            "aaxis": {
             "endlinecolor": "#2a3f5f",
             "gridcolor": "white",
             "linecolor": "white",
             "minorgridcolor": "white",
             "startlinecolor": "#2a3f5f"
            },
            "baxis": {
             "endlinecolor": "#2a3f5f",
             "gridcolor": "white",
             "linecolor": "white",
             "minorgridcolor": "white",
             "startlinecolor": "#2a3f5f"
            },
            "type": "carpet"
           }
          ],
          "choropleth": [
           {
            "colorbar": {
             "outlinewidth": 0,
             "ticks": ""
            },
            "type": "choropleth"
           }
          ],
          "contour": [
           {
            "colorbar": {
             "outlinewidth": 0,
             "ticks": ""
            },
            "colorscale": [
             [
              0,
              "#0d0887"
             ],
             [
              0.1111111111111111,
              "#46039f"
             ],
             [
              0.2222222222222222,
              "#7201a8"
             ],
             [
              0.3333333333333333,
              "#9c179e"
             ],
             [
              0.4444444444444444,
              "#bd3786"
             ],
             [
              0.5555555555555556,
              "#d8576b"
             ],
             [
              0.6666666666666666,
              "#ed7953"
             ],
             [
              0.7777777777777778,
              "#fb9f3a"
             ],
             [
              0.8888888888888888,
              "#fdca26"
             ],
             [
              1,
              "#f0f921"
             ]
            ],
            "type": "contour"
           }
          ],
          "contourcarpet": [
           {
            "colorbar": {
             "outlinewidth": 0,
             "ticks": ""
            },
            "type": "contourcarpet"
           }
          ],
          "heatmap": [
           {
            "colorbar": {
             "outlinewidth": 0,
             "ticks": ""
            },
            "colorscale": [
             [
              0,
              "#0d0887"
             ],
             [
              0.1111111111111111,
              "#46039f"
             ],
             [
              0.2222222222222222,
              "#7201a8"
             ],
             [
              0.3333333333333333,
              "#9c179e"
             ],
             [
              0.4444444444444444,
              "#bd3786"
             ],
             [
              0.5555555555555556,
              "#d8576b"
             ],
             [
              0.6666666666666666,
              "#ed7953"
             ],
             [
              0.7777777777777778,
              "#fb9f3a"
             ],
             [
              0.8888888888888888,
              "#fdca26"
             ],
             [
              1,
              "#f0f921"
             ]
            ],
            "type": "heatmap"
           }
          ],
          "heatmapgl": [
           {
            "colorbar": {
             "outlinewidth": 0,
             "ticks": ""
            },
            "colorscale": [
             [
              0,
              "#0d0887"
             ],
             [
              0.1111111111111111,
              "#46039f"
             ],
             [
              0.2222222222222222,
              "#7201a8"
             ],
             [
              0.3333333333333333,
              "#9c179e"
             ],
             [
              0.4444444444444444,
              "#bd3786"
             ],
             [
              0.5555555555555556,
              "#d8576b"
             ],
             [
              0.6666666666666666,
              "#ed7953"
             ],
             [
              0.7777777777777778,
              "#fb9f3a"
             ],
             [
              0.8888888888888888,
              "#fdca26"
             ],
             [
              1,
              "#f0f921"
             ]
            ],
            "type": "heatmapgl"
           }
          ],
          "histogram": [
           {
            "marker": {
             "pattern": {
              "fillmode": "overlay",
              "size": 10,
              "solidity": 0.2
             }
            },
            "type": "histogram"
           }
          ],
          "histogram2d": [
           {
            "colorbar": {
             "outlinewidth": 0,
             "ticks": ""
            },
            "colorscale": [
             [
              0,
              "#0d0887"
             ],
             [
              0.1111111111111111,
              "#46039f"
             ],
             [
              0.2222222222222222,
              "#7201a8"
             ],
             [
              0.3333333333333333,
              "#9c179e"
             ],
             [
              0.4444444444444444,
              "#bd3786"
             ],
             [
              0.5555555555555556,
              "#d8576b"
             ],
             [
              0.6666666666666666,
              "#ed7953"
             ],
             [
              0.7777777777777778,
              "#fb9f3a"
             ],
             [
              0.8888888888888888,
              "#fdca26"
             ],
             [
              1,
              "#f0f921"
             ]
            ],
            "type": "histogram2d"
           }
          ],
          "histogram2dcontour": [
           {
            "colorbar": {
             "outlinewidth": 0,
             "ticks": ""
            },
            "colorscale": [
             [
              0,
              "#0d0887"
             ],
             [
              0.1111111111111111,
              "#46039f"
             ],
             [
              0.2222222222222222,
              "#7201a8"
             ],
             [
              0.3333333333333333,
              "#9c179e"
             ],
             [
              0.4444444444444444,
              "#bd3786"
             ],
             [
              0.5555555555555556,
              "#d8576b"
             ],
             [
              0.6666666666666666,
              "#ed7953"
             ],
             [
              0.7777777777777778,
              "#fb9f3a"
             ],
             [
              0.8888888888888888,
              "#fdca26"
             ],
             [
              1,
              "#f0f921"
             ]
            ],
            "type": "histogram2dcontour"
           }
          ],
          "mesh3d": [
           {
            "colorbar": {
             "outlinewidth": 0,
             "ticks": ""
            },
            "type": "mesh3d"
           }
          ],
          "parcoords": [
           {
            "line": {
             "colorbar": {
              "outlinewidth": 0,
              "ticks": ""
             }
            },
            "type": "parcoords"
           }
          ],
          "pie": [
           {
            "automargin": true,
            "type": "pie"
           }
          ],
          "scatter": [
           {
            "marker": {
             "colorbar": {
              "outlinewidth": 0,
              "ticks": ""
             }
            },
            "type": "scatter"
           }
          ],
          "scatter3d": [
           {
            "line": {
             "colorbar": {
              "outlinewidth": 0,
              "ticks": ""
             }
            },
            "marker": {
             "colorbar": {
              "outlinewidth": 0,
              "ticks": ""
             }
            },
            "type": "scatter3d"
           }
          ],
          "scattercarpet": [
           {
            "marker": {
             "colorbar": {
              "outlinewidth": 0,
              "ticks": ""
             }
            },
            "type": "scattercarpet"
           }
          ],
          "scattergeo": [
           {
            "marker": {
             "colorbar": {
              "outlinewidth": 0,
              "ticks": ""
             }
            },
            "type": "scattergeo"
           }
          ],
          "scattergl": [
           {
            "marker": {
             "colorbar": {
              "outlinewidth": 0,
              "ticks": ""
             }
            },
            "type": "scattergl"
           }
          ],
          "scattermapbox": [
           {
            "marker": {
             "colorbar": {
              "outlinewidth": 0,
              "ticks": ""
             }
            },
            "type": "scattermapbox"
           }
          ],
          "scatterpolar": [
           {
            "marker": {
             "colorbar": {
              "outlinewidth": 0,
              "ticks": ""
             }
            },
            "type": "scatterpolar"
           }
          ],
          "scatterpolargl": [
           {
            "marker": {
             "colorbar": {
              "outlinewidth": 0,
              "ticks": ""
             }
            },
            "type": "scatterpolargl"
           }
          ],
          "scatterternary": [
           {
            "marker": {
             "colorbar": {
              "outlinewidth": 0,
              "ticks": ""
             }
            },
            "type": "scatterternary"
           }
          ],
          "surface": [
           {
            "colorbar": {
             "outlinewidth": 0,
             "ticks": ""
            },
            "colorscale": [
             [
              0,
              "#0d0887"
             ],
             [
              0.1111111111111111,
              "#46039f"
             ],
             [
              0.2222222222222222,
              "#7201a8"
             ],
             [
              0.3333333333333333,
              "#9c179e"
             ],
             [
              0.4444444444444444,
              "#bd3786"
             ],
             [
              0.5555555555555556,
              "#d8576b"
             ],
             [
              0.6666666666666666,
              "#ed7953"
             ],
             [
              0.7777777777777778,
              "#fb9f3a"
             ],
             [
              0.8888888888888888,
              "#fdca26"
             ],
             [
              1,
              "#f0f921"
             ]
            ],
            "type": "surface"
           }
          ],
          "table": [
           {
            "cells": {
             "fill": {
              "color": "#EBF0F8"
             },
             "line": {
              "color": "white"
             }
            },
            "header": {
             "fill": {
              "color": "#C8D4E3"
             },
             "line": {
              "color": "white"
             }
            },
            "type": "table"
           }
          ]
         },
         "layout": {
          "annotationdefaults": {
           "arrowcolor": "#2a3f5f",
           "arrowhead": 0,
           "arrowwidth": 1
          },
          "autotypenumbers": "strict",
          "coloraxis": {
           "colorbar": {
            "outlinewidth": 0,
            "ticks": ""
           }
          },
          "colorscale": {
           "diverging": [
            [
             0,
             "#8e0152"
            ],
            [
             0.1,
             "#c51b7d"
            ],
            [
             0.2,
             "#de77ae"
            ],
            [
             0.3,
             "#f1b6da"
            ],
            [
             0.4,
             "#fde0ef"
            ],
            [
             0.5,
             "#f7f7f7"
            ],
            [
             0.6,
             "#e6f5d0"
            ],
            [
             0.7,
             "#b8e186"
            ],
            [
             0.8,
             "#7fbc41"
            ],
            [
             0.9,
             "#4d9221"
            ],
            [
             1,
             "#276419"
            ]
           ],
           "sequential": [
            [
             0,
             "#0d0887"
            ],
            [
             0.1111111111111111,
             "#46039f"
            ],
            [
             0.2222222222222222,
             "#7201a8"
            ],
            [
             0.3333333333333333,
             "#9c179e"
            ],
            [
             0.4444444444444444,
             "#bd3786"
            ],
            [
             0.5555555555555556,
             "#d8576b"
            ],
            [
             0.6666666666666666,
             "#ed7953"
            ],
            [
             0.7777777777777778,
             "#fb9f3a"
            ],
            [
             0.8888888888888888,
             "#fdca26"
            ],
            [
             1,
             "#f0f921"
            ]
           ],
           "sequentialminus": [
            [
             0,
             "#0d0887"
            ],
            [
             0.1111111111111111,
             "#46039f"
            ],
            [
             0.2222222222222222,
             "#7201a8"
            ],
            [
             0.3333333333333333,
             "#9c179e"
            ],
            [
             0.4444444444444444,
             "#bd3786"
            ],
            [
             0.5555555555555556,
             "#d8576b"
            ],
            [
             0.6666666666666666,
             "#ed7953"
            ],
            [
             0.7777777777777778,
             "#fb9f3a"
            ],
            [
             0.8888888888888888,
             "#fdca26"
            ],
            [
             1,
             "#f0f921"
            ]
           ]
          },
          "colorway": [
           "#636efa",
           "#EF553B",
           "#00cc96",
           "#ab63fa",
           "#FFA15A",
           "#19d3f3",
           "#FF6692",
           "#B6E880",
           "#FF97FF",
           "#FECB52"
          ],
          "font": {
           "color": "#2a3f5f"
          },
          "geo": {
           "bgcolor": "white",
           "lakecolor": "white",
           "landcolor": "#E5ECF6",
           "showlakes": true,
           "showland": true,
           "subunitcolor": "white"
          },
          "hoverlabel": {
           "align": "left"
          },
          "hovermode": "closest",
          "mapbox": {
           "style": "light"
          },
          "paper_bgcolor": "white",
          "plot_bgcolor": "#E5ECF6",
          "polar": {
           "angularaxis": {
            "gridcolor": "white",
            "linecolor": "white",
            "ticks": ""
           },
           "bgcolor": "#E5ECF6",
           "radialaxis": {
            "gridcolor": "white",
            "linecolor": "white",
            "ticks": ""
           }
          },
          "scene": {
           "xaxis": {
            "backgroundcolor": "#E5ECF6",
            "gridcolor": "white",
            "gridwidth": 2,
            "linecolor": "white",
            "showbackground": true,
            "ticks": "",
            "zerolinecolor": "white"
           },
           "yaxis": {
            "backgroundcolor": "#E5ECF6",
            "gridcolor": "white",
            "gridwidth": 2,
            "linecolor": "white",
            "showbackground": true,
            "ticks": "",
            "zerolinecolor": "white"
           },
           "zaxis": {
            "backgroundcolor": "#E5ECF6",
            "gridcolor": "white",
            "gridwidth": 2,
            "linecolor": "white",
            "showbackground": true,
            "ticks": "",
            "zerolinecolor": "white"
           }
          },
          "shapedefaults": {
           "line": {
            "color": "#2a3f5f"
           }
          },
          "ternary": {
           "aaxis": {
            "gridcolor": "white",
            "linecolor": "white",
            "ticks": ""
           },
           "baxis": {
            "gridcolor": "white",
            "linecolor": "white",
            "ticks": ""
           },
           "bgcolor": "#E5ECF6",
           "caxis": {
            "gridcolor": "white",
            "linecolor": "white",
            "ticks": ""
           }
          },
          "title": {
           "x": 0.05
          },
          "xaxis": {
           "automargin": true,
           "gridcolor": "white",
           "linecolor": "white",
           "ticks": "",
           "title": {
            "standoff": 15
           },
           "zerolinecolor": "white",
           "zerolinewidth": 2
          },
          "yaxis": {
           "automargin": true,
           "gridcolor": "white",
           "linecolor": "white",
           "ticks": "",
           "title": {
            "standoff": 15
           },
           "zerolinecolor": "white",
           "zerolinewidth": 2
          }
         }
        },
        "title": {
         "text": "Status de clientes por estado"
        },
        "xaxis": {
         "anchor": "y",
         "domain": [
          0,
          1
         ],
         "title": {
          "text": "count"
         }
        },
        "yaxis": {
         "anchor": "x",
         "domain": [
          0,
          1
         ],
         "title": {
          "text": "Status"
         }
        }
       }
      }
     },
     "metadata": {},
     "output_type": "display_data"
    }
   ],
   "source": [
    "fig = px.histogram(df_NND, y = 'Status', color = 'Estado',\n",
    "                   title = 'Status de clientes por estado')\n",
    "\n",
    "fig.show()"
   ]
  }
 ],
 "metadata": {
  "interpreter": {
   "hash": "56ff467c50d32eca5b5840356f1af4c08b514411af240d050c7edddc9315efce"
  },
  "kernelspec": {
   "display_name": "Python 3.9.7 64-bit",
   "language": "python",
   "name": "python3"
  },
  "language_info": {
   "codemirror_mode": {
    "name": "ipython",
    "version": 3
   },
   "file_extension": ".py",
   "mimetype": "text/x-python",
   "name": "python",
   "nbconvert_exporter": "python",
   "pygments_lexer": "ipython3",
   "version": "3.9.7"
  },
  "orig_nbformat": 4
 },
 "nbformat": 4,
 "nbformat_minor": 2
}
