{
 "cells": [
  {
   "cell_type": "markdown",
   "metadata": {},
   "source": [
    "# ***Predicting WBK Clients Status with Binary Classification***"
   ]
  },
  {
   "cell_type": "code",
   "execution_count": 267,
   "metadata": {},
   "outputs": [],
   "source": [
    "import pandas                  as pd\n",
    "import numpy                   as np\n",
    "import matplotlib.pyplot       as plt\n",
    "from   sklearn.model_selection import train_test_split\n",
    "from   sklearn.metrics         import confusion_matrix, accuracy_score\n",
    "from   sklearn.preprocessing   import LabelEncoder, OneHotEncoder, StandardScaler\n",
    "from   sklearn.compose         import ColumnTransformer\n",
    "from   sklearn.linear_model    import LogisticRegression"
   ]
  },
  {
   "cell_type": "code",
   "execution_count": 268,
   "metadata": {},
   "outputs": [
    {
     "data": {
      "text/plain": [
       "(250, 22)"
      ]
     },
     "execution_count": 268,
     "metadata": {},
     "output_type": "execute_result"
    }
   ],
   "source": [
    "df = pd.read_csv('./WBKClientsTreated.csv')\n",
    "df.shape"
   ]
  },
  {
   "cell_type": "code",
   "execution_count": 269,
   "metadata": {},
   "outputs": [
    {
     "data": {
      "text/html": [
       "<div>\n",
       "<style scoped>\n",
       "    .dataframe tbody tr th:only-of-type {\n",
       "        vertical-align: middle;\n",
       "    }\n",
       "\n",
       "    .dataframe tbody tr th {\n",
       "        vertical-align: top;\n",
       "    }\n",
       "\n",
       "    .dataframe thead th {\n",
       "        text-align: right;\n",
       "    }\n",
       "</style>\n",
       "<table border=\"1\" class=\"dataframe\">\n",
       "  <thead>\n",
       "    <tr style=\"text-align: right;\">\n",
       "      <th></th>\n",
       "      <th>Cliente</th>\n",
       "      <th>Estado</th>\n",
       "      <th>Sexo</th>\n",
       "      <th>Duracao</th>\n",
       "      <th>HistoricoCredito</th>\n",
       "      <th>Proposito</th>\n",
       "      <th>Valor</th>\n",
       "      <th>Investimento</th>\n",
       "      <th>Emprego</th>\n",
       "      <th>TempoParcelamento</th>\n",
       "      <th>...</th>\n",
       "      <th>ResidenciaDesde</th>\n",
       "      <th>Idade</th>\n",
       "      <th>OutrosFinanciamentos</th>\n",
       "      <th>Habitacao</th>\n",
       "      <th>EmprestimoExistente</th>\n",
       "      <th>Profissao</th>\n",
       "      <th>Dependentes</th>\n",
       "      <th>SocioEmpresa</th>\n",
       "      <th>Estrangeiro</th>\n",
       "      <th>Status</th>\n",
       "    </tr>\n",
       "  </thead>\n",
       "  <tbody>\n",
       "    <tr>\n",
       "      <th>0</th>\n",
       "      <td>Adelina Buenaventura</td>\n",
       "      <td>RJ</td>\n",
       "      <td>M</td>\n",
       "      <td>2</td>\n",
       "      <td>Adelina Buenaventura</td>\n",
       "      <td>2</td>\n",
       "      <td>1</td>\n",
       "      <td>5951</td>\n",
       "      <td>2</td>\n",
       "      <td>3.0</td>\n",
       "      <td>...</td>\n",
       "      <td>3</td>\n",
       "      <td>2.0</td>\n",
       "      <td>22</td>\n",
       "      <td>3</td>\n",
       "      <td>1.0</td>\n",
       "      <td>1</td>\n",
       "      <td>4</td>\n",
       "      <td>1</td>\n",
       "      <td>0</td>\n",
       "      <td>0</td>\n",
       "    </tr>\n",
       "    <tr>\n",
       "      <th>1</th>\n",
       "      <td>Adelino Gago</td>\n",
       "      <td>RJ</td>\n",
       "      <td>M</td>\n",
       "      <td>3</td>\n",
       "      <td>Adelino Gago</td>\n",
       "      <td>1</td>\n",
       "      <td>2</td>\n",
       "      <td>2096</td>\n",
       "      <td>2</td>\n",
       "      <td>4.0</td>\n",
       "      <td>...</td>\n",
       "      <td>3</td>\n",
       "      <td>3.0</td>\n",
       "      <td>49</td>\n",
       "      <td>3</td>\n",
       "      <td>1.0</td>\n",
       "      <td>1</td>\n",
       "      <td>3</td>\n",
       "      <td>2</td>\n",
       "      <td>0</td>\n",
       "      <td>0</td>\n",
       "    </tr>\n",
       "    <tr>\n",
       "      <th>2</th>\n",
       "      <td>Adélio Lisboa</td>\n",
       "      <td>SE</td>\n",
       "      <td>M</td>\n",
       "      <td>4</td>\n",
       "      <td>Adélio Lisboa</td>\n",
       "      <td>2</td>\n",
       "      <td>3</td>\n",
       "      <td>7882</td>\n",
       "      <td>2</td>\n",
       "      <td>4.0</td>\n",
       "      <td>...</td>\n",
       "      <td>4</td>\n",
       "      <td>4.0</td>\n",
       "      <td>45</td>\n",
       "      <td>3</td>\n",
       "      <td>2.0</td>\n",
       "      <td>1</td>\n",
       "      <td>4</td>\n",
       "      <td>2</td>\n",
       "      <td>0</td>\n",
       "      <td>0</td>\n",
       "    </tr>\n",
       "    <tr>\n",
       "      <th>3</th>\n",
       "      <td>Adérito Bahía</td>\n",
       "      <td>MA</td>\n",
       "      <td>M</td>\n",
       "      <td>5</td>\n",
       "      <td>Adérito Bahía</td>\n",
       "      <td>3</td>\n",
       "      <td>4</td>\n",
       "      <td>4870</td>\n",
       "      <td>2</td>\n",
       "      <td>3.0</td>\n",
       "      <td>...</td>\n",
       "      <td>3</td>\n",
       "      <td>4.0</td>\n",
       "      <td>53</td>\n",
       "      <td>3</td>\n",
       "      <td>2.0</td>\n",
       "      <td>2</td>\n",
       "      <td>4</td>\n",
       "      <td>2</td>\n",
       "      <td>0</td>\n",
       "      <td>0</td>\n",
       "    </tr>\n",
       "    <tr>\n",
       "      <th>4</th>\n",
       "      <td>Adolfo Patrício</td>\n",
       "      <td>PE</td>\n",
       "      <td>M</td>\n",
       "      <td>6</td>\n",
       "      <td>Adolfo Patrício</td>\n",
       "      <td>2</td>\n",
       "      <td>2</td>\n",
       "      <td>9055</td>\n",
       "      <td>1</td>\n",
       "      <td>3.0</td>\n",
       "      <td>...</td>\n",
       "      <td>3</td>\n",
       "      <td>4.0</td>\n",
       "      <td>35</td>\n",
       "      <td>3</td>\n",
       "      <td>2.0</td>\n",
       "      <td>1</td>\n",
       "      <td>3</td>\n",
       "      <td>2</td>\n",
       "      <td>1</td>\n",
       "      <td>0</td>\n",
       "    </tr>\n",
       "  </tbody>\n",
       "</table>\n",
       "<p>5 rows × 22 columns</p>\n",
       "</div>"
      ],
      "text/plain": [
       "                Cliente Estado Sexo  Duracao      HistoricoCredito  Proposito  \\\n",
       "0  Adelina Buenaventura     RJ    M        2  Adelina Buenaventura          2   \n",
       "1          Adelino Gago     RJ    M        3          Adelino Gago          1   \n",
       "2         Adélio Lisboa     SE    M        4         Adélio Lisboa          2   \n",
       "3         Adérito Bahía     MA    M        5         Adérito Bahía          3   \n",
       "4       Adolfo Patrício     PE    M        6       Adolfo Patrício          2   \n",
       "\n",
       "   Valor  Investimento  Emprego  TempoParcelamento  ...  ResidenciaDesde  \\\n",
       "0      1          5951        2                3.0  ...                3   \n",
       "1      2          2096        2                4.0  ...                3   \n",
       "2      3          7882        2                4.0  ...                4   \n",
       "3      4          4870        2                3.0  ...                3   \n",
       "4      2          9055        1                3.0  ...                3   \n",
       "\n",
       "   Idade  OutrosFinanciamentos  Habitacao  EmprestimoExistente  Profissao  \\\n",
       "0    2.0                    22          3                  1.0          1   \n",
       "1    3.0                    49          3                  1.0          1   \n",
       "2    4.0                    45          3                  2.0          1   \n",
       "3    4.0                    53          3                  2.0          2   \n",
       "4    4.0                    35          3                  2.0          1   \n",
       "\n",
       "   Dependentes  SocioEmpresa  Estrangeiro  Status  \n",
       "0            4             1            0       0  \n",
       "1            3             2            0       0  \n",
       "2            4             2            0       0  \n",
       "3            4             2            0       0  \n",
       "4            3             2            1       0  \n",
       "\n",
       "[5 rows x 22 columns]"
      ]
     },
     "execution_count": 269,
     "metadata": {},
     "output_type": "execute_result"
    }
   ],
   "source": [
    "df.head()"
   ]
  },
  {
   "cell_type": "code",
   "execution_count": 270,
   "metadata": {},
   "outputs": [
    {
     "data": {
      "text/plain": [
       "Cliente                  object\n",
       "Estado                   object\n",
       "Sexo                     object\n",
       "Duracao                   int64\n",
       "HistoricoCredito         object\n",
       "Proposito                 int64\n",
       "Valor                     int64\n",
       "Investimento              int64\n",
       "Emprego                   int64\n",
       "TempoParcelamento       float64\n",
       "EstadoCivil               int64\n",
       "Fiador                    int64\n",
       "ResidenciaDesde           int64\n",
       "Idade                   float64\n",
       "OutrosFinanciamentos      int64\n",
       "Habitacao                 int64\n",
       "EmprestimoExistente     float64\n",
       "Profissao                 int64\n",
       "Dependentes               int64\n",
       "SocioEmpresa              int64\n",
       "Estrangeiro               int64\n",
       "Status                    int64\n",
       "dtype: object"
      ]
     },
     "execution_count": 270,
     "metadata": {},
     "output_type": "execute_result"
    }
   ],
   "source": [
    "df.dtypes"
   ]
  },
  {
   "cell_type": "code",
   "execution_count": 271,
   "metadata": {},
   "outputs": [],
   "source": [
    "df = df.drop(['Cliente', 'Estado', 'Sexo' ,'HistoricoCredito'], axis = 1)"
   ]
  },
  {
   "cell_type": "code",
   "execution_count": 272,
   "metadata": {},
   "outputs": [
    {
     "data": {
      "text/html": [
       "<div>\n",
       "<style scoped>\n",
       "    .dataframe tbody tr th:only-of-type {\n",
       "        vertical-align: middle;\n",
       "    }\n",
       "\n",
       "    .dataframe tbody tr th {\n",
       "        vertical-align: top;\n",
       "    }\n",
       "\n",
       "    .dataframe thead th {\n",
       "        text-align: right;\n",
       "    }\n",
       "</style>\n",
       "<table border=\"1\" class=\"dataframe\">\n",
       "  <thead>\n",
       "    <tr style=\"text-align: right;\">\n",
       "      <th></th>\n",
       "      <th>Duracao</th>\n",
       "      <th>Proposito</th>\n",
       "      <th>Valor</th>\n",
       "      <th>Investimento</th>\n",
       "      <th>Emprego</th>\n",
       "      <th>TempoParcelamento</th>\n",
       "      <th>EstadoCivil</th>\n",
       "      <th>Fiador</th>\n",
       "      <th>ResidenciaDesde</th>\n",
       "      <th>Idade</th>\n",
       "      <th>OutrosFinanciamentos</th>\n",
       "      <th>Habitacao</th>\n",
       "      <th>EmprestimoExistente</th>\n",
       "      <th>Profissao</th>\n",
       "      <th>Dependentes</th>\n",
       "      <th>SocioEmpresa</th>\n",
       "      <th>Estrangeiro</th>\n",
       "      <th>Status</th>\n",
       "    </tr>\n",
       "  </thead>\n",
       "  <tbody>\n",
       "    <tr>\n",
       "      <th>0</th>\n",
       "      <td>2</td>\n",
       "      <td>2</td>\n",
       "      <td>1</td>\n",
       "      <td>5951</td>\n",
       "      <td>2</td>\n",
       "      <td>3.0</td>\n",
       "      <td>2</td>\n",
       "      <td>1</td>\n",
       "      <td>3</td>\n",
       "      <td>2.0</td>\n",
       "      <td>22</td>\n",
       "      <td>3</td>\n",
       "      <td>1.0</td>\n",
       "      <td>1</td>\n",
       "      <td>4</td>\n",
       "      <td>1</td>\n",
       "      <td>0</td>\n",
       "      <td>0</td>\n",
       "    </tr>\n",
       "    <tr>\n",
       "      <th>1</th>\n",
       "      <td>3</td>\n",
       "      <td>1</td>\n",
       "      <td>2</td>\n",
       "      <td>2096</td>\n",
       "      <td>2</td>\n",
       "      <td>4.0</td>\n",
       "      <td>2</td>\n",
       "      <td>4</td>\n",
       "      <td>3</td>\n",
       "      <td>3.0</td>\n",
       "      <td>49</td>\n",
       "      <td>3</td>\n",
       "      <td>1.0</td>\n",
       "      <td>1</td>\n",
       "      <td>3</td>\n",
       "      <td>2</td>\n",
       "      <td>0</td>\n",
       "      <td>0</td>\n",
       "    </tr>\n",
       "    <tr>\n",
       "      <th>2</th>\n",
       "      <td>4</td>\n",
       "      <td>2</td>\n",
       "      <td>3</td>\n",
       "      <td>7882</td>\n",
       "      <td>2</td>\n",
       "      <td>4.0</td>\n",
       "      <td>2</td>\n",
       "      <td>4</td>\n",
       "      <td>4</td>\n",
       "      <td>4.0</td>\n",
       "      <td>45</td>\n",
       "      <td>3</td>\n",
       "      <td>2.0</td>\n",
       "      <td>1</td>\n",
       "      <td>4</td>\n",
       "      <td>2</td>\n",
       "      <td>0</td>\n",
       "      <td>0</td>\n",
       "    </tr>\n",
       "  </tbody>\n",
       "</table>\n",
       "</div>"
      ],
      "text/plain": [
       "   Duracao  Proposito  Valor  Investimento  Emprego  TempoParcelamento  \\\n",
       "0        2          2      1          5951        2                3.0   \n",
       "1        3          1      2          2096        2                4.0   \n",
       "2        4          2      3          7882        2                4.0   \n",
       "\n",
       "   EstadoCivil  Fiador  ResidenciaDesde  Idade  OutrosFinanciamentos  \\\n",
       "0            2       1                3    2.0                    22   \n",
       "1            2       4                3    3.0                    49   \n",
       "2            2       4                4    4.0                    45   \n",
       "\n",
       "   Habitacao  EmprestimoExistente  Profissao  Dependentes  SocioEmpresa  \\\n",
       "0          3                  1.0          1            4             1   \n",
       "1          3                  1.0          1            3             2   \n",
       "2          3                  2.0          1            4             2   \n",
       "\n",
       "   Estrangeiro  Status  \n",
       "0            0       0  \n",
       "1            0       0  \n",
       "2            0       0  "
      ]
     },
     "execution_count": 272,
     "metadata": {},
     "output_type": "execute_result"
    }
   ],
   "source": [
    "df.head(3)"
   ]
  },
  {
   "cell_type": "markdown",
   "metadata": {},
   "source": [
    "### Getting dataframe values"
   ]
  },
  {
   "cell_type": "code",
   "execution_count": 273,
   "metadata": {},
   "outputs": [
    {
     "name": "stdout",
     "output_type": "stream",
     "text": [
      "DATA: [2.000e+00 2.000e+00 1.000e+00 5.951e+03 2.000e+00 3.000e+00 2.000e+00\n",
      " 1.000e+00 3.000e+00 2.000e+00 2.200e+01 3.000e+00 1.000e+00 1.000e+00\n",
      " 4.000e+00 1.000e+00 0.000e+00]\n",
      "\n",
      "TARGET: 0\n"
     ]
    }
   ],
   "source": [
    "data = df.iloc[:, :17].values\n",
    "target = df.iloc[:, 17].values\n",
    "\n",
    "print(f'DATA: {data[0]}\\n\\nTARGET: {target[0]}')"
   ]
  },
  {
   "cell_type": "code",
   "execution_count": 274,
   "metadata": {},
   "outputs": [],
   "source": [
    "data = np.asarray(data).astype(np.float32)"
   ]
  },
  {
   "cell_type": "code",
   "execution_count": 275,
   "metadata": {},
   "outputs": [
    {
     "name": "stdout",
     "output_type": "stream",
     "text": [
      "UNIQUES: [0 1]\n",
      "QUANT: [240  10]\n"
     ]
    }
   ],
   "source": [
    "uniques, quant = np.unique(df['Status'], return_counts = True)\n",
    "print(f'UNIQUES: {uniques}\\nQUANT: {quant}')"
   ]
  },
  {
   "cell_type": "markdown",
   "metadata": {},
   "source": [
    "### Separating TRAIN and TEST data"
   ]
  },
  {
   "cell_type": "code",
   "execution_count": 276,
   "metadata": {},
   "outputs": [
    {
     "name": "stdout",
     "output_type": "stream",
     "text": [
      "175 75 175 75\n"
     ]
    }
   ],
   "source": [
    "X_train, X_test, y_train, y_test = train_test_split(data, target,\n",
    "                                                    test_size = 0.3,\n",
    "                                                    random_state = 0)\n",
    "\n",
    "print(len(X_train), len(X_test), len(y_train), len(y_test))"
   ]
  },
  {
   "cell_type": "code",
   "execution_count": 277,
   "metadata": {},
   "outputs": [
    {
     "data": {
      "text/plain": [
       "array([[113.,   2.,   4., ...,   3.,   1.,   0.],\n",
       "       [253.,   2.,   4., ...,   4.,   1.,   0.],\n",
       "       [  6.,   2.,   2., ...,   3.,   2.,   1.],\n",
       "       ...,\n",
       "       [124.,   1.,   4., ...,   4.,   1.,   1.],\n",
       "       [ 55.,   3.,   4., ...,   4.,   1.,   1.],\n",
       "       [181.,   3.,   6., ...,   4.,   1.,   0.]], dtype=float32)"
      ]
     },
     "execution_count": 277,
     "metadata": {},
     "output_type": "execute_result"
    }
   ],
   "source": [
    "X_train"
   ]
  },
  {
   "cell_type": "code",
   "execution_count": 278,
   "metadata": {},
   "outputs": [
    {
     "name": "stdout",
     "output_type": "stream",
     "text": [
      "X_train[:1] = array([[-0.20602888,  0.0113968 ,  0.21958455,  1.143798  , -0.28665602,\n",
      "         1.2668138 ,  0.        ,  0.78677034, -0.03382551,  0.18842229,\n",
      "        -0.73416895,  0.5050774 ,  2.1631784 , -0.68912935, -0.07970692,\n",
      "        -0.4456794 , -0.8864052 ]], dtype=float32)\n",
      "\n",
      "X_test[:1] = array([[ 1.4330301 , -1.0067341 , -1.0963516 , -0.60142833, -0.35175458,\n",
      "         1.0826255 , -0.92688465,  0.75377834, -0.05170877, -1.4102205 ,\n",
      "         0.57677054,  0.4346792 , -0.52223295,  2.4563034 , -0.12026672,\n",
      "         2.5495098 , -0.8164966 ]], dtype=float32)\n"
     ]
    }
   ],
   "source": [
    "standarscaler = StandardScaler()\n",
    "\n",
    "X_train = standarscaler.fit_transform(X_train)\n",
    "X_test = standarscaler.fit_transform(X_test)\n",
    "print(f'{X_train[:1] = }\\n\\n{X_test[:1] = }')"
   ]
  },
  {
   "cell_type": "markdown",
   "metadata": {},
   "source": [
    "## ***CREATING THE MODEL***"
   ]
  },
  {
   "cell_type": "code",
   "execution_count": 279,
   "metadata": {},
   "outputs": [
    {
     "data": {
      "text/plain": [
       "LogisticRegression(random_state=0)"
      ]
     },
     "execution_count": 279,
     "metadata": {},
     "output_type": "execute_result"
    }
   ],
   "source": [
    "classifier = LogisticRegression(random_state=0)\n",
    "classifier.fit(X_train, y_train)"
   ]
  },
  {
   "cell_type": "markdown",
   "metadata": {},
   "source": [
    "### Predictions"
   ]
  },
  {
   "cell_type": "code",
   "execution_count": 280,
   "metadata": {},
   "outputs": [
    {
     "data": {
      "text/plain": [
       "array([0, 0, 0, 0, 0, 0, 0, 0, 0, 0, 0, 0, 0, 0, 0, 0, 0, 0, 0, 0, 0, 0,\n",
       "       0, 0, 0, 0, 0, 0, 0, 0, 0, 0, 0, 0, 0, 0, 0, 0, 0, 0, 0, 0, 0, 0,\n",
       "       0, 0, 0, 0, 0, 0, 0, 0, 0, 0, 0, 0, 0, 0, 0, 0, 0, 0, 0, 0, 0, 0,\n",
       "       0, 0, 0, 0, 0, 0, 0, 0, 0], dtype=int64)"
      ]
     },
     "execution_count": 280,
     "metadata": {},
     "output_type": "execute_result"
    }
   ],
   "source": [
    "predictions = classifier.predict(X_test)\n",
    "predictions"
   ]
  },
  {
   "cell_type": "markdown",
   "metadata": {},
   "source": [
    "### Confusion Matrix"
   ]
  },
  {
   "cell_type": "code",
   "execution_count": 281,
   "metadata": {},
   "outputs": [
    {
     "data": {
      "text/plain": [
       "array([[72,  0],\n",
       "       [ 3,  0]], dtype=int64)"
      ]
     },
     "execution_count": 281,
     "metadata": {},
     "output_type": "execute_result"
    }
   ],
   "source": [
    "confusion_matrix(y_test, predictions)"
   ]
  },
  {
   "cell_type": "markdown",
   "metadata": {},
   "source": [
    "### Model Accuracy"
   ]
  },
  {
   "cell_type": "code",
   "execution_count": 282,
   "metadata": {},
   "outputs": [
    {
     "name": "stdout",
     "output_type": "stream",
     "text": [
      "ACCURACY: 96%\n"
     ]
    }
   ],
   "source": [
    "print(f'ACCURACY: {accuracy_score(y_test, predictions) * 100:.0f}%')\n",
    "\n",
    "# GOOD PERFORMANCE"
   ]
  }
 ],
 "metadata": {
  "interpreter": {
   "hash": "56ff467c50d32eca5b5840356f1af4c08b514411af240d050c7edddc9315efce"
  },
  "kernelspec": {
   "display_name": "Python 3.9.6 64-bit",
   "language": "python",
   "name": "python3"
  },
  "language_info": {
   "codemirror_mode": {
    "name": "ipython",
    "version": 3
   },
   "file_extension": ".py",
   "mimetype": "text/x-python",
   "name": "python",
   "nbconvert_exporter": "python",
   "pygments_lexer": "ipython3",
   "version": "3.9.7"
  },
  "orig_nbformat": 4
 },
 "nbformat": 4,
 "nbformat_minor": 2
}
