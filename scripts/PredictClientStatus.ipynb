{
 "cells": [
  {
   "cell_type": "markdown",
   "metadata": {},
   "source": [
    "# ***Predicting WBK Clients Status with Binary Classification***"
   ]
  },
  {
   "cell_type": "code",
   "execution_count": 84,
   "metadata": {},
   "outputs": [],
   "source": [
    "import pandas                  as pd\n",
    "import numpy                   as np\n",
    "import matplotlib.pyplot       as plt\n",
    "from   sklearn.model_selection import train_test_split\n",
    "from   sklearn.metrics         import confusion_matrix, accuracy_score\n",
    "from   sklearn.preprocessing   import LabelEncoder, OneHotEncoder, StandardScaler\n",
    "from   sklearn.compose         import ColumnTransformer\n",
    "from   sklearn.linear_model    import LogisticRegression\n",
    "from   keras.models            import Sequential\n",
    "from   keras.layers            import Dense\n",
    "from   keras.utils             import np_utils"
   ]
  },
  {
   "cell_type": "code",
   "execution_count": 85,
   "metadata": {},
   "outputs": [
    {
     "data": {
      "text/plain": [
       "(250, 22)"
      ]
     },
     "execution_count": 85,
     "metadata": {},
     "output_type": "execute_result"
    }
   ],
   "source": [
    "df = pd.read_csv('./WBKClientsTreated.csv')\n",
    "df.shape"
   ]
  },
  {
   "cell_type": "code",
   "execution_count": 86,
   "metadata": {},
   "outputs": [
    {
     "data": {
      "text/html": [
       "<div>\n",
       "<style scoped>\n",
       "    .dataframe tbody tr th:only-of-type {\n",
       "        vertical-align: middle;\n",
       "    }\n",
       "\n",
       "    .dataframe tbody tr th {\n",
       "        vertical-align: top;\n",
       "    }\n",
       "\n",
       "    .dataframe thead th {\n",
       "        text-align: right;\n",
       "    }\n",
       "</style>\n",
       "<table border=\"1\" class=\"dataframe\">\n",
       "  <thead>\n",
       "    <tr style=\"text-align: right;\">\n",
       "      <th></th>\n",
       "      <th>Cliente</th>\n",
       "      <th>Estado</th>\n",
       "      <th>Sexo</th>\n",
       "      <th>Duracao</th>\n",
       "      <th>HistoricoCredito</th>\n",
       "      <th>Proposito</th>\n",
       "      <th>Valor</th>\n",
       "      <th>Investimento</th>\n",
       "      <th>Emprego</th>\n",
       "      <th>TempoParcelamento</th>\n",
       "      <th>...</th>\n",
       "      <th>ResidenciaDesde</th>\n",
       "      <th>Idade</th>\n",
       "      <th>OutrosFinanciamentos</th>\n",
       "      <th>Habitacao</th>\n",
       "      <th>EmprestimoExistente</th>\n",
       "      <th>Profissao</th>\n",
       "      <th>Dependentes</th>\n",
       "      <th>SocioEmpresa</th>\n",
       "      <th>Estrangeiro</th>\n",
       "      <th>Status</th>\n",
       "    </tr>\n",
       "  </thead>\n",
       "  <tbody>\n",
       "    <tr>\n",
       "      <th>0</th>\n",
       "      <td>Adelina Buenaventura</td>\n",
       "      <td>RJ</td>\n",
       "      <td>M</td>\n",
       "      <td>2</td>\n",
       "      <td>Adelina Buenaventura</td>\n",
       "      <td>2</td>\n",
       "      <td>1</td>\n",
       "      <td>5951</td>\n",
       "      <td>2</td>\n",
       "      <td>3.0</td>\n",
       "      <td>...</td>\n",
       "      <td>3</td>\n",
       "      <td>2.0</td>\n",
       "      <td>22</td>\n",
       "      <td>3</td>\n",
       "      <td>1.0</td>\n",
       "      <td>1</td>\n",
       "      <td>4</td>\n",
       "      <td>1</td>\n",
       "      <td>0</td>\n",
       "      <td>0</td>\n",
       "    </tr>\n",
       "    <tr>\n",
       "      <th>1</th>\n",
       "      <td>Adelino Gago</td>\n",
       "      <td>RJ</td>\n",
       "      <td>M</td>\n",
       "      <td>3</td>\n",
       "      <td>Adelino Gago</td>\n",
       "      <td>1</td>\n",
       "      <td>2</td>\n",
       "      <td>2096</td>\n",
       "      <td>2</td>\n",
       "      <td>4.0</td>\n",
       "      <td>...</td>\n",
       "      <td>3</td>\n",
       "      <td>3.0</td>\n",
       "      <td>49</td>\n",
       "      <td>3</td>\n",
       "      <td>1.0</td>\n",
       "      <td>1</td>\n",
       "      <td>3</td>\n",
       "      <td>2</td>\n",
       "      <td>0</td>\n",
       "      <td>0</td>\n",
       "    </tr>\n",
       "    <tr>\n",
       "      <th>2</th>\n",
       "      <td>Adélio Lisboa</td>\n",
       "      <td>SE</td>\n",
       "      <td>M</td>\n",
       "      <td>4</td>\n",
       "      <td>Adélio Lisboa</td>\n",
       "      <td>2</td>\n",
       "      <td>3</td>\n",
       "      <td>7882</td>\n",
       "      <td>2</td>\n",
       "      <td>4.0</td>\n",
       "      <td>...</td>\n",
       "      <td>4</td>\n",
       "      <td>4.0</td>\n",
       "      <td>45</td>\n",
       "      <td>3</td>\n",
       "      <td>2.0</td>\n",
       "      <td>1</td>\n",
       "      <td>4</td>\n",
       "      <td>2</td>\n",
       "      <td>0</td>\n",
       "      <td>0</td>\n",
       "    </tr>\n",
       "    <tr>\n",
       "      <th>3</th>\n",
       "      <td>Adérito Bahía</td>\n",
       "      <td>MA</td>\n",
       "      <td>M</td>\n",
       "      <td>5</td>\n",
       "      <td>Adérito Bahía</td>\n",
       "      <td>3</td>\n",
       "      <td>4</td>\n",
       "      <td>4870</td>\n",
       "      <td>2</td>\n",
       "      <td>3.0</td>\n",
       "      <td>...</td>\n",
       "      <td>3</td>\n",
       "      <td>4.0</td>\n",
       "      <td>53</td>\n",
       "      <td>3</td>\n",
       "      <td>2.0</td>\n",
       "      <td>2</td>\n",
       "      <td>4</td>\n",
       "      <td>2</td>\n",
       "      <td>0</td>\n",
       "      <td>0</td>\n",
       "    </tr>\n",
       "    <tr>\n",
       "      <th>4</th>\n",
       "      <td>Adolfo Patrício</td>\n",
       "      <td>PE</td>\n",
       "      <td>M</td>\n",
       "      <td>6</td>\n",
       "      <td>Adolfo Patrício</td>\n",
       "      <td>2</td>\n",
       "      <td>2</td>\n",
       "      <td>9055</td>\n",
       "      <td>1</td>\n",
       "      <td>3.0</td>\n",
       "      <td>...</td>\n",
       "      <td>3</td>\n",
       "      <td>4.0</td>\n",
       "      <td>35</td>\n",
       "      <td>3</td>\n",
       "      <td>2.0</td>\n",
       "      <td>1</td>\n",
       "      <td>3</td>\n",
       "      <td>2</td>\n",
       "      <td>1</td>\n",
       "      <td>0</td>\n",
       "    </tr>\n",
       "  </tbody>\n",
       "</table>\n",
       "<p>5 rows × 22 columns</p>\n",
       "</div>"
      ],
      "text/plain": [
       "                Cliente Estado Sexo  Duracao      HistoricoCredito  Proposito  \\\n",
       "0  Adelina Buenaventura     RJ    M        2  Adelina Buenaventura          2   \n",
       "1          Adelino Gago     RJ    M        3          Adelino Gago          1   \n",
       "2         Adélio Lisboa     SE    M        4         Adélio Lisboa          2   \n",
       "3         Adérito Bahía     MA    M        5         Adérito Bahía          3   \n",
       "4       Adolfo Patrício     PE    M        6       Adolfo Patrício          2   \n",
       "\n",
       "   Valor  Investimento  Emprego  TempoParcelamento  ...  ResidenciaDesde  \\\n",
       "0      1          5951        2                3.0  ...                3   \n",
       "1      2          2096        2                4.0  ...                3   \n",
       "2      3          7882        2                4.0  ...                4   \n",
       "3      4          4870        2                3.0  ...                3   \n",
       "4      2          9055        1                3.0  ...                3   \n",
       "\n",
       "   Idade  OutrosFinanciamentos  Habitacao  EmprestimoExistente  Profissao  \\\n",
       "0    2.0                    22          3                  1.0          1   \n",
       "1    3.0                    49          3                  1.0          1   \n",
       "2    4.0                    45          3                  2.0          1   \n",
       "3    4.0                    53          3                  2.0          2   \n",
       "4    4.0                    35          3                  2.0          1   \n",
       "\n",
       "   Dependentes  SocioEmpresa  Estrangeiro  Status  \n",
       "0            4             1            0       0  \n",
       "1            3             2            0       0  \n",
       "2            4             2            0       0  \n",
       "3            4             2            0       0  \n",
       "4            3             2            1       0  \n",
       "\n",
       "[5 rows x 22 columns]"
      ]
     },
     "execution_count": 86,
     "metadata": {},
     "output_type": "execute_result"
    }
   ],
   "source": [
    "df.head()"
   ]
  },
  {
   "cell_type": "code",
   "execution_count": 87,
   "metadata": {},
   "outputs": [
    {
     "data": {
      "text/plain": [
       "Cliente                  object\n",
       "Estado                   object\n",
       "Sexo                     object\n",
       "Duracao                   int64\n",
       "HistoricoCredito         object\n",
       "Proposito                 int64\n",
       "Valor                     int64\n",
       "Investimento              int64\n",
       "Emprego                   int64\n",
       "TempoParcelamento       float64\n",
       "EstadoCivil               int64\n",
       "Fiador                    int64\n",
       "ResidenciaDesde           int64\n",
       "Idade                   float64\n",
       "OutrosFinanciamentos      int64\n",
       "Habitacao                 int64\n",
       "EmprestimoExistente     float64\n",
       "Profissao                 int64\n",
       "Dependentes               int64\n",
       "SocioEmpresa              int64\n",
       "Estrangeiro               int64\n",
       "Status                    int64\n",
       "dtype: object"
      ]
     },
     "execution_count": 87,
     "metadata": {},
     "output_type": "execute_result"
    }
   ],
   "source": [
    "df.dtypes"
   ]
  },
  {
   "cell_type": "code",
   "execution_count": 88,
   "metadata": {},
   "outputs": [
    {
     "data": {
      "text/plain": [
       "(250, 18)"
      ]
     },
     "execution_count": 88,
     "metadata": {},
     "output_type": "execute_result"
    }
   ],
   "source": [
    "df = df.drop(['Cliente', 'Estado', 'Sexo' ,'HistoricoCredito'], axis = 1)\n",
    "df.shape"
   ]
  },
  {
   "cell_type": "code",
   "execution_count": 89,
   "metadata": {},
   "outputs": [
    {
     "data": {
      "text/html": [
       "<div>\n",
       "<style scoped>\n",
       "    .dataframe tbody tr th:only-of-type {\n",
       "        vertical-align: middle;\n",
       "    }\n",
       "\n",
       "    .dataframe tbody tr th {\n",
       "        vertical-align: top;\n",
       "    }\n",
       "\n",
       "    .dataframe thead th {\n",
       "        text-align: right;\n",
       "    }\n",
       "</style>\n",
       "<table border=\"1\" class=\"dataframe\">\n",
       "  <thead>\n",
       "    <tr style=\"text-align: right;\">\n",
       "      <th></th>\n",
       "      <th>Duracao</th>\n",
       "      <th>Proposito</th>\n",
       "      <th>Valor</th>\n",
       "      <th>Investimento</th>\n",
       "      <th>Emprego</th>\n",
       "      <th>TempoParcelamento</th>\n",
       "      <th>EstadoCivil</th>\n",
       "      <th>Fiador</th>\n",
       "      <th>ResidenciaDesde</th>\n",
       "      <th>Idade</th>\n",
       "      <th>OutrosFinanciamentos</th>\n",
       "      <th>Habitacao</th>\n",
       "      <th>EmprestimoExistente</th>\n",
       "      <th>Profissao</th>\n",
       "      <th>Dependentes</th>\n",
       "      <th>SocioEmpresa</th>\n",
       "      <th>Estrangeiro</th>\n",
       "      <th>Status</th>\n",
       "    </tr>\n",
       "  </thead>\n",
       "  <tbody>\n",
       "    <tr>\n",
       "      <th>0</th>\n",
       "      <td>2</td>\n",
       "      <td>2</td>\n",
       "      <td>1</td>\n",
       "      <td>5951</td>\n",
       "      <td>2</td>\n",
       "      <td>3.0</td>\n",
       "      <td>2</td>\n",
       "      <td>1</td>\n",
       "      <td>3</td>\n",
       "      <td>2.0</td>\n",
       "      <td>22</td>\n",
       "      <td>3</td>\n",
       "      <td>1.0</td>\n",
       "      <td>1</td>\n",
       "      <td>4</td>\n",
       "      <td>1</td>\n",
       "      <td>0</td>\n",
       "      <td>0</td>\n",
       "    </tr>\n",
       "    <tr>\n",
       "      <th>1</th>\n",
       "      <td>3</td>\n",
       "      <td>1</td>\n",
       "      <td>2</td>\n",
       "      <td>2096</td>\n",
       "      <td>2</td>\n",
       "      <td>4.0</td>\n",
       "      <td>2</td>\n",
       "      <td>4</td>\n",
       "      <td>3</td>\n",
       "      <td>3.0</td>\n",
       "      <td>49</td>\n",
       "      <td>3</td>\n",
       "      <td>1.0</td>\n",
       "      <td>1</td>\n",
       "      <td>3</td>\n",
       "      <td>2</td>\n",
       "      <td>0</td>\n",
       "      <td>0</td>\n",
       "    </tr>\n",
       "    <tr>\n",
       "      <th>2</th>\n",
       "      <td>4</td>\n",
       "      <td>2</td>\n",
       "      <td>3</td>\n",
       "      <td>7882</td>\n",
       "      <td>2</td>\n",
       "      <td>4.0</td>\n",
       "      <td>2</td>\n",
       "      <td>4</td>\n",
       "      <td>4</td>\n",
       "      <td>4.0</td>\n",
       "      <td>45</td>\n",
       "      <td>3</td>\n",
       "      <td>2.0</td>\n",
       "      <td>1</td>\n",
       "      <td>4</td>\n",
       "      <td>2</td>\n",
       "      <td>0</td>\n",
       "      <td>0</td>\n",
       "    </tr>\n",
       "  </tbody>\n",
       "</table>\n",
       "</div>"
      ],
      "text/plain": [
       "   Duracao  Proposito  Valor  Investimento  Emprego  TempoParcelamento  \\\n",
       "0        2          2      1          5951        2                3.0   \n",
       "1        3          1      2          2096        2                4.0   \n",
       "2        4          2      3          7882        2                4.0   \n",
       "\n",
       "   EstadoCivil  Fiador  ResidenciaDesde  Idade  OutrosFinanciamentos  \\\n",
       "0            2       1                3    2.0                    22   \n",
       "1            2       4                3    3.0                    49   \n",
       "2            2       4                4    4.0                    45   \n",
       "\n",
       "   Habitacao  EmprestimoExistente  Profissao  Dependentes  SocioEmpresa  \\\n",
       "0          3                  1.0          1            4             1   \n",
       "1          3                  1.0          1            3             2   \n",
       "2          3                  2.0          1            4             2   \n",
       "\n",
       "   Estrangeiro  Status  \n",
       "0            0       0  \n",
       "1            0       0  \n",
       "2            0       0  "
      ]
     },
     "execution_count": 89,
     "metadata": {},
     "output_type": "execute_result"
    }
   ],
   "source": [
    "df.head(3)"
   ]
  },
  {
   "cell_type": "markdown",
   "metadata": {},
   "source": [
    "### Getting dataframe values"
   ]
  },
  {
   "cell_type": "code",
   "execution_count": 90,
   "metadata": {},
   "outputs": [
    {
     "name": "stdout",
     "output_type": "stream",
     "text": [
      "DATA: [2.000e+00 2.000e+00 1.000e+00 5.951e+03 2.000e+00 3.000e+00 2.000e+00\n",
      " 1.000e+00 3.000e+00 2.000e+00 2.200e+01 3.000e+00 1.000e+00 1.000e+00\n",
      " 4.000e+00 1.000e+00 0.000e+00]\n",
      "\n",
      "TARGET: 0\n"
     ]
    }
   ],
   "source": [
    "data = df.iloc[:, :17].values\n",
    "target = df.iloc[:, 17].values\n",
    "\n",
    "print(f'DATA: {data[0]}\\n\\nTARGET: {target[0]}')"
   ]
  },
  {
   "cell_type": "code",
   "execution_count": 91,
   "metadata": {},
   "outputs": [
    {
     "name": "stdout",
     "output_type": "stream",
     "text": [
      "UNIQUES: [0 1]\n",
      "QUANT: [240  10]\n"
     ]
    }
   ],
   "source": [
    "uniques, quant = np.unique(df['Status'], return_counts = True)\n",
    "print(f'UNIQUES: {uniques}\\nQUANT: {quant}')"
   ]
  },
  {
   "cell_type": "markdown",
   "metadata": {},
   "source": [
    "### Separating TRAIN and TEST data"
   ]
  },
  {
   "cell_type": "code",
   "execution_count": 92,
   "metadata": {},
   "outputs": [
    {
     "name": "stdout",
     "output_type": "stream",
     "text": [
      "175 75 175 75\n"
     ]
    }
   ],
   "source": [
    "X_train, X_test, y_train, y_test = train_test_split(data, target,\n",
    "                                                    test_size = 0.3,\n",
    "                                                    random_state = 0)\n",
    "\n",
    "print(len(X_train), len(X_test), len(y_train), len(y_test))"
   ]
  },
  {
   "cell_type": "markdown",
   "metadata": {},
   "source": [
    "### Feature Scalling"
   ]
  },
  {
   "cell_type": "code",
   "execution_count": 93,
   "metadata": {},
   "outputs": [],
   "source": [
    "sc = StandardScaler()\n",
    "\n",
    "X_train = sc.fit_transform(X_train)\n",
    "X_test = sc.fit_transform(X_test)"
   ]
  },
  {
   "cell_type": "markdown",
   "metadata": {},
   "source": [
    "## ***Structuring the Neural Network***"
   ]
  },
  {
   "cell_type": "code",
   "execution_count": 94,
   "metadata": {},
   "outputs": [],
   "source": [
    "classifier = Sequential()\n",
    "\n",
    "classifier.add(Dense(units = 9, kernel_initializer='uniform', activation = 'relu', input_dim = 17))\n",
    "\n",
    "classifier.add(Dense(units = 9, kernel_initializer = 'uniform', activation = 'relu'))\n",
    "\n",
    "classifier.add(Dense(units = 1, kernel_initializer = 'uniform', activation = 'sigmoid'))"
   ]
  },
  {
   "cell_type": "code",
   "execution_count": 95,
   "metadata": {},
   "outputs": [
    {
     "name": "stdout",
     "output_type": "stream",
     "text": [
      "Model: \"sequential_6\"\n",
      "_________________________________________________________________\n",
      " Layer (type)                Output Shape              Param #   \n",
      "=================================================================\n",
      " dense_18 (Dense)            (None, 9)                 162       \n",
      "                                                                 \n",
      " dense_19 (Dense)            (None, 9)                 90        \n",
      "                                                                 \n",
      " dense_20 (Dense)            (None, 1)                 10        \n",
      "                                                                 \n",
      "=================================================================\n",
      "Total params: 262\n",
      "Trainable params: 262\n",
      "Non-trainable params: 0\n",
      "_________________________________________________________________\n"
     ]
    }
   ],
   "source": [
    "classifier.summary()"
   ]
  },
  {
   "cell_type": "code",
   "execution_count": 96,
   "metadata": {},
   "outputs": [
    {
     "name": "stdout",
     "output_type": "stream",
     "text": [
      "Epoch 1/100\n",
      "6/6 [==============================] - 0s 1ms/step - loss: 0.6918 - accuracy: 0.9086\n",
      "Epoch 2/100\n",
      "6/6 [==============================] - 0s 1ms/step - loss: 0.6881 - accuracy: 0.9600\n",
      "Epoch 3/100\n",
      "6/6 [==============================] - 0s 1000us/step - loss: 0.6840 - accuracy: 0.9600\n",
      "Epoch 4/100\n",
      "6/6 [==============================] - 0s 800us/step - loss: 0.6795 - accuracy: 0.9600\n",
      "Epoch 5/100\n",
      "6/6 [==============================] - 0s 1ms/step - loss: 0.6743 - accuracy: 0.9600\n",
      "Epoch 6/100\n",
      "6/6 [==============================] - 0s 1ms/step - loss: 0.6682 - accuracy: 0.9600\n",
      "Epoch 7/100\n",
      "6/6 [==============================] - 0s 800us/step - loss: 0.6612 - accuracy: 0.9600\n",
      "Epoch 8/100\n",
      "6/6 [==============================] - 0s 1ms/step - loss: 0.6530 - accuracy: 0.9600\n",
      "Epoch 9/100\n",
      "6/6 [==============================] - 0s 800us/step - loss: 0.6435 - accuracy: 0.9600\n",
      "Epoch 10/100\n",
      "6/6 [==============================] - 0s 800us/step - loss: 0.6323 - accuracy: 0.9600\n",
      "Epoch 11/100\n",
      "6/6 [==============================] - 0s 1ms/step - loss: 0.6193 - accuracy: 0.9600\n",
      "Epoch 12/100\n",
      "6/6 [==============================] - 0s 800us/step - loss: 0.6044 - accuracy: 0.9600\n",
      "Epoch 13/100\n",
      "6/6 [==============================] - 0s 800us/step - loss: 0.5877 - accuracy: 0.9600\n",
      "Epoch 14/100\n",
      "6/6 [==============================] - 0s 800us/step - loss: 0.5685 - accuracy: 0.9600\n",
      "Epoch 15/100\n",
      "6/6 [==============================] - 0s 800us/step - loss: 0.5473 - accuracy: 0.9600\n",
      "Epoch 16/100\n",
      "6/6 [==============================] - 0s 800us/step - loss: 0.5246 - accuracy: 0.9600\n",
      "Epoch 17/100\n",
      "6/6 [==============================] - 0s 800us/step - loss: 0.4999 - accuracy: 0.9600\n",
      "Epoch 18/100\n",
      "6/6 [==============================] - 0s 800us/step - loss: 0.4735 - accuracy: 0.9600\n",
      "Epoch 19/100\n",
      "6/6 [==============================] - 0s 800us/step - loss: 0.4466 - accuracy: 0.9600\n",
      "Epoch 20/100\n",
      "6/6 [==============================] - 0s 800us/step - loss: 0.4184 - accuracy: 0.9600\n",
      "Epoch 21/100\n",
      "6/6 [==============================] - 0s 1ms/step - loss: 0.3909 - accuracy: 0.9600\n",
      "Epoch 22/100\n",
      "6/6 [==============================] - 0s 1ms/step - loss: 0.3635 - accuracy: 0.9600\n",
      "Epoch 23/100\n",
      "6/6 [==============================] - 0s 1ms/step - loss: 0.3375 - accuracy: 0.9600\n",
      "Epoch 24/100\n",
      "6/6 [==============================] - 0s 1ms/step - loss: 0.3125 - accuracy: 0.9600\n",
      "Epoch 25/100\n",
      "6/6 [==============================] - 0s 1ms/step - loss: 0.2894 - accuracy: 0.9600\n",
      "Epoch 26/100\n",
      "6/6 [==============================] - 0s 600us/step - loss: 0.2675 - accuracy: 0.9600\n",
      "Epoch 27/100\n",
      "6/6 [==============================] - 0s 800us/step - loss: 0.2487 - accuracy: 0.9600\n",
      "Epoch 28/100\n",
      "6/6 [==============================] - 0s 800us/step - loss: 0.2320 - accuracy: 0.9600\n",
      "Epoch 29/100\n",
      "6/6 [==============================] - 0s 800us/step - loss: 0.2168 - accuracy: 0.9600\n",
      "Epoch 30/100\n",
      "6/6 [==============================] - 0s 800us/step - loss: 0.2037 - accuracy: 0.9600\n",
      "Epoch 31/100\n",
      "6/6 [==============================] - 0s 600us/step - loss: 0.1927 - accuracy: 0.9600\n",
      "Epoch 32/100\n",
      "6/6 [==============================] - 0s 1ms/step - loss: 0.1823 - accuracy: 0.9600\n",
      "Epoch 33/100\n",
      "6/6 [==============================] - 0s 1ms/step - loss: 0.1735 - accuracy: 0.9600\n",
      "Epoch 34/100\n",
      "6/6 [==============================] - 0s 1ms/step - loss: 0.1654 - accuracy: 0.9600\n",
      "Epoch 35/100\n",
      "6/6 [==============================] - 0s 800us/step - loss: 0.1587 - accuracy: 0.9600\n",
      "Epoch 36/100\n",
      "6/6 [==============================] - 0s 1ms/step - loss: 0.1526 - accuracy: 0.9600\n",
      "Epoch 37/100\n",
      "6/6 [==============================] - 0s 800us/step - loss: 0.1469 - accuracy: 0.9600\n",
      "Epoch 38/100\n",
      "6/6 [==============================] - 0s 1000us/step - loss: 0.1424 - accuracy: 0.9600\n",
      "Epoch 39/100\n",
      "6/6 [==============================] - 0s 1ms/step - loss: 0.1385 - accuracy: 0.9600\n",
      "Epoch 40/100\n",
      "6/6 [==============================] - 0s 800us/step - loss: 0.1349 - accuracy: 0.9600\n",
      "Epoch 41/100\n",
      "6/6 [==============================] - 0s 1ms/step - loss: 0.1320 - accuracy: 0.9600\n",
      "Epoch 42/100\n",
      "6/6 [==============================] - 0s 1ms/step - loss: 0.1291 - accuracy: 0.9600\n",
      "Epoch 43/100\n",
      "6/6 [==============================] - 0s 1ms/step - loss: 0.1268 - accuracy: 0.9600\n",
      "Epoch 44/100\n",
      "6/6 [==============================] - 0s 1ms/step - loss: 0.1247 - accuracy: 0.9600\n",
      "Epoch 45/100\n",
      "6/6 [==============================] - 0s 1ms/step - loss: 0.1226 - accuracy: 0.9600\n",
      "Epoch 46/100\n",
      "6/6 [==============================] - 0s 1ms/step - loss: 0.1208 - accuracy: 0.9600\n",
      "Epoch 47/100\n",
      "6/6 [==============================] - 0s 1ms/step - loss: 0.1192 - accuracy: 0.9600\n",
      "Epoch 48/100\n",
      "6/6 [==============================] - 0s 1ms/step - loss: 0.1174 - accuracy: 0.9600\n",
      "Epoch 49/100\n",
      "6/6 [==============================] - 0s 800us/step - loss: 0.1160 - accuracy: 0.9600\n",
      "Epoch 50/100\n",
      "6/6 [==============================] - 0s 1ms/step - loss: 0.1143 - accuracy: 0.9600\n",
      "Epoch 51/100\n",
      "6/6 [==============================] - 0s 800us/step - loss: 0.1130 - accuracy: 0.9600\n",
      "Epoch 52/100\n",
      "6/6 [==============================] - 0s 800us/step - loss: 0.1115 - accuracy: 0.9600\n",
      "Epoch 53/100\n",
      "6/6 [==============================] - 0s 800us/step - loss: 0.1103 - accuracy: 0.9600\n",
      "Epoch 54/100\n",
      "6/6 [==============================] - 0s 1ms/step - loss: 0.1092 - accuracy: 0.9600\n",
      "Epoch 55/100\n",
      "6/6 [==============================] - 0s 800us/step - loss: 0.1078 - accuracy: 0.9600\n",
      "Epoch 56/100\n",
      "6/6 [==============================] - 0s 800us/step - loss: 0.1069 - accuracy: 0.9600\n",
      "Epoch 57/100\n",
      "6/6 [==============================] - 0s 800us/step - loss: 0.1056 - accuracy: 0.9600\n",
      "Epoch 58/100\n",
      "6/6 [==============================] - 0s 1ms/step - loss: 0.1046 - accuracy: 0.9600\n",
      "Epoch 59/100\n",
      "6/6 [==============================] - 0s 800us/step - loss: 0.1034 - accuracy: 0.9600\n",
      "Epoch 60/100\n",
      "6/6 [==============================] - 0s 800us/step - loss: 0.1023 - accuracy: 0.9600\n",
      "Epoch 61/100\n",
      "6/6 [==============================] - 0s 1ms/step - loss: 0.1012 - accuracy: 0.9600\n",
      "Epoch 62/100\n",
      "6/6 [==============================] - 0s 1ms/step - loss: 0.1001 - accuracy: 0.9600\n",
      "Epoch 63/100\n",
      "6/6 [==============================] - 0s 1ms/step - loss: 0.0991 - accuracy: 0.9600\n",
      "Epoch 64/100\n",
      "6/6 [==============================] - 0s 1ms/step - loss: 0.0982 - accuracy: 0.9600\n",
      "Epoch 65/100\n",
      "6/6 [==============================] - 0s 1ms/step - loss: 0.0973 - accuracy: 0.9600\n",
      "Epoch 66/100\n",
      "6/6 [==============================] - 0s 1ms/step - loss: 0.0964 - accuracy: 0.9600\n",
      "Epoch 67/100\n",
      "6/6 [==============================] - 0s 800us/step - loss: 0.0955 - accuracy: 0.9600\n",
      "Epoch 68/100\n",
      "6/6 [==============================] - 0s 1ms/step - loss: 0.0946 - accuracy: 0.9600\n",
      "Epoch 69/100\n",
      "6/6 [==============================] - 0s 1ms/step - loss: 0.0936 - accuracy: 0.9600\n",
      "Epoch 70/100\n",
      "6/6 [==============================] - 0s 800us/step - loss: 0.0927 - accuracy: 0.9600\n",
      "Epoch 71/100\n",
      "6/6 [==============================] - 0s 800us/step - loss: 0.0917 - accuracy: 0.9600\n",
      "Epoch 72/100\n",
      "6/6 [==============================] - 0s 800us/step - loss: 0.0908 - accuracy: 0.9600\n",
      "Epoch 73/100\n",
      "6/6 [==============================] - 0s 800us/step - loss: 0.0900 - accuracy: 0.9600\n",
      "Epoch 74/100\n",
      "6/6 [==============================] - 0s 1ms/step - loss: 0.0890 - accuracy: 0.9600\n",
      "Epoch 75/100\n",
      "6/6 [==============================] - 0s 1ms/step - loss: 0.0880 - accuracy: 0.9600\n",
      "Epoch 76/100\n",
      "6/6 [==============================] - 0s 800us/step - loss: 0.0872 - accuracy: 0.9600\n",
      "Epoch 77/100\n",
      "6/6 [==============================] - 0s 1ms/step - loss: 0.0863 - accuracy: 0.9600\n",
      "Epoch 78/100\n",
      "6/6 [==============================] - 0s 1ms/step - loss: 0.0852 - accuracy: 0.9600\n",
      "Epoch 79/100\n",
      "6/6 [==============================] - 0s 1ms/step - loss: 0.0843 - accuracy: 0.9600\n",
      "Epoch 80/100\n",
      "6/6 [==============================] - 0s 1ms/step - loss: 0.0833 - accuracy: 0.9600\n",
      "Epoch 81/100\n",
      "6/6 [==============================] - 0s 800us/step - loss: 0.0824 - accuracy: 0.9600\n",
      "Epoch 82/100\n",
      "6/6 [==============================] - 0s 800us/step - loss: 0.0814 - accuracy: 0.9600\n",
      "Epoch 83/100\n",
      "6/6 [==============================] - 0s 800us/step - loss: 0.0806 - accuracy: 0.9600\n",
      "Epoch 84/100\n",
      "6/6 [==============================] - 0s 1ms/step - loss: 0.0797 - accuracy: 0.9600\n",
      "Epoch 85/100\n",
      "6/6 [==============================] - 0s 1ms/step - loss: 0.0787 - accuracy: 0.9600\n",
      "Epoch 86/100\n",
      "6/6 [==============================] - 0s 800us/step - loss: 0.0779 - accuracy: 0.9600\n",
      "Epoch 87/100\n",
      "6/6 [==============================] - 0s 1ms/step - loss: 0.0770 - accuracy: 0.9600\n",
      "Epoch 88/100\n",
      "6/6 [==============================] - 0s 800us/step - loss: 0.0762 - accuracy: 0.9600\n",
      "Epoch 89/100\n",
      "6/6 [==============================] - 0s 1ms/step - loss: 0.0753 - accuracy: 0.9600\n",
      "Epoch 90/100\n",
      "6/6 [==============================] - 0s 800us/step - loss: 0.0744 - accuracy: 0.9600\n",
      "Epoch 91/100\n",
      "6/6 [==============================] - 0s 1000us/step - loss: 0.0736 - accuracy: 0.9600\n",
      "Epoch 92/100\n",
      "6/6 [==============================] - 0s 1ms/step - loss: 0.0728 - accuracy: 0.9600\n",
      "Epoch 93/100\n",
      "6/6 [==============================] - 0s 800us/step - loss: 0.0719 - accuracy: 0.9600\n",
      "Epoch 94/100\n",
      "6/6 [==============================] - 0s 1ms/step - loss: 0.0711 - accuracy: 0.9600\n",
      "Epoch 95/100\n",
      "6/6 [==============================] - 0s 1ms/step - loss: 0.0703 - accuracy: 0.9600\n",
      "Epoch 96/100\n",
      "6/6 [==============================] - 0s 800us/step - loss: 0.0697 - accuracy: 0.9600\n",
      "Epoch 97/100\n",
      "6/6 [==============================] - 0s 800us/step - loss: 0.0688 - accuracy: 0.9600\n",
      "Epoch 98/100\n",
      "6/6 [==============================] - 0s 800us/step - loss: 0.0680 - accuracy: 0.9600\n",
      "Epoch 99/100\n",
      "6/6 [==============================] - 0s 1ms/step - loss: 0.0673 - accuracy: 0.9600\n",
      "Epoch 100/100\n",
      "6/6 [==============================] - 0s 800us/step - loss: 0.0666 - accuracy: 0.9600\n"
     ]
    },
    {
     "data": {
      "text/plain": [
       "<keras.callbacks.History at 0x18f5cefce50>"
      ]
     },
     "execution_count": 96,
     "metadata": {},
     "output_type": "execute_result"
    }
   ],
   "source": [
    "classifier.compile(optimizer = 'adam',\n",
    "                   loss = 'binary_crossentropy',\n",
    "                   metrics = ['accuracy'])\n",
    "\n",
    "classifier.fit(X_train, y_train, epochs = 100)"
   ]
  },
  {
   "cell_type": "markdown",
   "metadata": {},
   "source": [
    "### Predictions"
   ]
  },
  {
   "cell_type": "code",
   "execution_count": 97,
   "metadata": {},
   "outputs": [
    {
     "name": "stdout",
     "output_type": "stream",
     "text": [
      "WARNING:tensorflow:5 out of the last 13 calls to <function Model.make_predict_function.<locals>.predict_function at 0x0000018F5CEE93A0> triggered tf.function retracing. Tracing is expensive and the excessive number of tracings could be due to (1) creating @tf.function repeatedly in a loop, (2) passing tensors with different shapes, (3) passing Python objects instead of tensors. For (1), please define your @tf.function outside of the loop. For (2), @tf.function has experimental_relax_shapes=True option that relaxes argument shapes that can avoid unnecessary retracing. For (3), please refer to https://www.tensorflow.org/guide/function#controlling_retracing and https://www.tensorflow.org/api_docs/python/tf/function for  more details.\n"
     ]
    },
    {
     "data": {
      "text/plain": [
       "array([[False],\n",
       "       [False],\n",
       "       [False],\n",
       "       [False],\n",
       "       [False],\n",
       "       [False],\n",
       "       [False],\n",
       "       [False],\n",
       "       [False],\n",
       "       [False],\n",
       "       [False],\n",
       "       [False],\n",
       "       [False],\n",
       "       [False],\n",
       "       [False],\n",
       "       [False],\n",
       "       [False],\n",
       "       [False],\n",
       "       [False],\n",
       "       [False],\n",
       "       [False],\n",
       "       [False],\n",
       "       [False],\n",
       "       [False],\n",
       "       [False],\n",
       "       [False],\n",
       "       [False],\n",
       "       [False],\n",
       "       [False],\n",
       "       [False],\n",
       "       [False],\n",
       "       [False],\n",
       "       [False],\n",
       "       [False],\n",
       "       [False],\n",
       "       [False],\n",
       "       [False],\n",
       "       [False],\n",
       "       [False],\n",
       "       [False],\n",
       "       [False],\n",
       "       [False],\n",
       "       [False],\n",
       "       [False],\n",
       "       [False],\n",
       "       [False],\n",
       "       [False],\n",
       "       [False],\n",
       "       [False],\n",
       "       [False],\n",
       "       [False],\n",
       "       [False],\n",
       "       [False],\n",
       "       [False],\n",
       "       [False],\n",
       "       [False],\n",
       "       [False],\n",
       "       [False],\n",
       "       [False],\n",
       "       [False],\n",
       "       [False],\n",
       "       [False],\n",
       "       [False],\n",
       "       [False],\n",
       "       [False],\n",
       "       [False],\n",
       "       [False],\n",
       "       [False],\n",
       "       [False],\n",
       "       [False],\n",
       "       [False],\n",
       "       [False],\n",
       "       [False],\n",
       "       [False],\n",
       "       [False]])"
      ]
     },
     "execution_count": 97,
     "metadata": {},
     "output_type": "execute_result"
    }
   ],
   "source": [
    "predictions = classifier.predict(X_test)\n",
    "predictions = (predictions > 0.5)\n",
    "predictions"
   ]
  },
  {
   "cell_type": "markdown",
   "metadata": {},
   "source": [
    "### Confusion Matrix"
   ]
  },
  {
   "cell_type": "code",
   "execution_count": 98,
   "metadata": {},
   "outputs": [
    {
     "data": {
      "text/plain": [
       "array([[72,  0],\n",
       "       [ 3,  0]], dtype=int64)"
      ]
     },
     "execution_count": 98,
     "metadata": {},
     "output_type": "execute_result"
    }
   ],
   "source": [
    "confusion_matrix(y_test, predictions)"
   ]
  },
  {
   "cell_type": "markdown",
   "metadata": {},
   "source": [
    "### Model Accuracy"
   ]
  },
  {
   "cell_type": "code",
   "execution_count": 99,
   "metadata": {},
   "outputs": [
    {
     "name": "stdout",
     "output_type": "stream",
     "text": [
      "ACCURACY: 96%\n"
     ]
    }
   ],
   "source": [
    "print(f'ACCURACY: {accuracy_score(y_test, predictions) * 100:.0f}%')\n",
    "\n",
    "# GOOD PERFORMANCE"
   ]
  }
 ],
 "metadata": {
  "interpreter": {
   "hash": "56ff467c50d32eca5b5840356f1af4c08b514411af240d050c7edddc9315efce"
  },
  "kernelspec": {
   "display_name": "Python 3.9.6 64-bit",
   "language": "python",
   "name": "python3"
  },
  "language_info": {
   "codemirror_mode": {
    "name": "ipython",
    "version": 3
   },
   "file_extension": ".py",
   "mimetype": "text/x-python",
   "name": "python",
   "nbconvert_exporter": "python",
   "pygments_lexer": "ipython3",
   "version": "3.9.7"
  },
  "orig_nbformat": 4
 },
 "nbformat": 4,
 "nbformat_minor": 2
}
